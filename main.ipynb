{
 "cells": [
  {
   "cell_type": "markdown",
   "metadata": {},
   "source": [
    "# Capstone Project<br>\n",
    "Machine Learning Engineering Nanodegree<br>\n",
    "Michal Kozinski"
   ]
  },
  {
   "cell_type": "markdown",
   "metadata": {},
   "source": []
  },
  {
   "cell_type": "raw",
   "metadata": {},
   "source": [
    "from zipfile import ZipFile\n"
   ]
  },
  {
   "cell_type": "raw",
   "metadata": {},
   "source": [
    "# Create a ZipFile Object and load sample.zip in it\n",
    "with ZipFile('spanish-stocks-historical-data.zip') as zipObj:\n",
    "# Extract all the contents of zip file in current directory\n",
    "    zipObj.extractall(\"data\")\n"
   ]
  },
  {
   "cell_type": "markdown",
   "metadata": {},
   "source": [
    "# Imports"
   ]
  },
  {
   "cell_type": "code",
   "execution_count": 1,
   "metadata": {},
   "outputs": [],
   "source": [
    "import os as os\n",
    "import numpy as np\n",
    "import pandas as pd\n",
    "import matplotlib.pyplot as plt\n",
    "import csv\n",
    "from scipy.stats import skew\n",
    "from scipy.stats import kurtosis\n",
    "\n",
    "\n",
    "%matplotlib inline"
   ]
  },
  {
   "cell_type": "code",
   "execution_count": 2,
   "metadata": {},
   "outputs": [],
   "source": [
    "stocks = os.listdir(\"data\")"
   ]
  },
  {
   "cell_type": "code",
   "execution_count": 3,
   "metadata": {},
   "outputs": [
    {
     "data": {
      "text/html": [
       "<div>\n",
       "<style scoped>\n",
       "    .dataframe tbody tr th:only-of-type {\n",
       "        vertical-align: middle;\n",
       "    }\n",
       "\n",
       "    .dataframe tbody tr th {\n",
       "        vertical-align: top;\n",
       "    }\n",
       "\n",
       "    .dataframe thead th {\n",
       "        text-align: right;\n",
       "    }\n",
       "</style>\n",
       "<table border=\"1\" class=\"dataframe\">\n",
       "  <thead>\n",
       "    <tr style=\"text-align: right;\">\n",
       "      <th></th>\n",
       "      <th>Date</th>\n",
       "      <th>Close</th>\n",
       "      <th>High</th>\n",
       "      <th>Low</th>\n",
       "      <th>Open</th>\n",
       "      <th>Volume</th>\n",
       "    </tr>\n",
       "  </thead>\n",
       "  <tbody>\n",
       "    <tr>\n",
       "      <th>0</th>\n",
       "      <td>2009-02-11</td>\n",
       "      <td>5.59</td>\n",
       "      <td>5.59</td>\n",
       "      <td>5.52</td>\n",
       "      <td>5.57</td>\n",
       "      <td>0</td>\n",
       "    </tr>\n",
       "    <tr>\n",
       "      <th>1</th>\n",
       "      <td>2009-02-12</td>\n",
       "      <td>5.43</td>\n",
       "      <td>5.55</td>\n",
       "      <td>5.43</td>\n",
       "      <td>5.53</td>\n",
       "      <td>0</td>\n",
       "    </tr>\n",
       "    <tr>\n",
       "      <th>2</th>\n",
       "      <td>2009-02-13</td>\n",
       "      <td>5.50</td>\n",
       "      <td>5.62</td>\n",
       "      <td>5.50</td>\n",
       "      <td>5.55</td>\n",
       "      <td>0</td>\n",
       "    </tr>\n",
       "    <tr>\n",
       "      <th>3</th>\n",
       "      <td>2009-02-16</td>\n",
       "      <td>5.35</td>\n",
       "      <td>5.50</td>\n",
       "      <td>5.35</td>\n",
       "      <td>5.48</td>\n",
       "      <td>0</td>\n",
       "    </tr>\n",
       "    <tr>\n",
       "      <th>4</th>\n",
       "      <td>2009-02-17</td>\n",
       "      <td>5.66</td>\n",
       "      <td>5.66</td>\n",
       "      <td>5.34</td>\n",
       "      <td>5.35</td>\n",
       "      <td>0</td>\n",
       "    </tr>\n",
       "  </tbody>\n",
       "</table>\n",
       "</div>"
      ],
      "text/plain": [
       "         Date  Close  High   Low  Open  Volume\n",
       "0  2009-02-11   5.59  5.59  5.52  5.57       0\n",
       "1  2009-02-12   5.43  5.55  5.43  5.53       0\n",
       "2  2009-02-13   5.50  5.62  5.50  5.55       0\n",
       "3  2009-02-16   5.35  5.50  5.35  5.48       0\n",
       "4  2009-02-17   5.66  5.66  5.34  5.35       0"
      ]
     },
     "execution_count": 3,
     "metadata": {},
     "output_type": "execute_result"
    }
   ],
   "source": [
    "pd.read_csv(\"data/\" + stocks[0]).head()"
   ]
  },
  {
   "cell_type": "markdown",
   "metadata": {},
   "source": [
    "# Import all files"
   ]
  },
  {
   "cell_type": "code",
   "execution_count": 4,
   "metadata": {},
   "outputs": [
    {
     "data": {
      "text/html": [
       "<div>\n",
       "<style scoped>\n",
       "    .dataframe tbody tr th:only-of-type {\n",
       "        vertical-align: middle;\n",
       "    }\n",
       "\n",
       "    .dataframe tbody tr th {\n",
       "        vertical-align: top;\n",
       "    }\n",
       "\n",
       "    .dataframe thead th {\n",
       "        text-align: right;\n",
       "    }\n",
       "</style>\n",
       "<table border=\"1\" class=\"dataframe\">\n",
       "  <thead>\n",
       "    <tr style=\"text-align: right;\">\n",
       "      <th></th>\n",
       "      <th>iberdrola</th>\n",
       "      <th>naturgy-energy</th>\n",
       "      <th>enags</th>\n",
       "      <th>santander</th>\n",
       "      <th>atresmedia</th>\n",
       "      <th>acciona</th>\n",
       "      <th>repsol</th>\n",
       "      <th>colonial</th>\n",
       "      <th>inditex</th>\n",
       "      <th>caixabank</th>\n",
       "      <th>...</th>\n",
       "      <th>bme</th>\n",
       "      <th>bbva</th>\n",
       "      <th>grifols</th>\n",
       "      <th>siemens-gamesa</th>\n",
       "      <th>telefnica</th>\n",
       "      <th>abengoa</th>\n",
       "      <th>bankinter</th>\n",
       "      <th>mapfre</th>\n",
       "      <th>indra</th>\n",
       "      <th>red-elctrica</th>\n",
       "    </tr>\n",
       "    <tr>\n",
       "      <th>Date</th>\n",
       "      <th></th>\n",
       "      <th></th>\n",
       "      <th></th>\n",
       "      <th></th>\n",
       "      <th></th>\n",
       "      <th></th>\n",
       "      <th></th>\n",
       "      <th></th>\n",
       "      <th></th>\n",
       "      <th></th>\n",
       "      <th></th>\n",
       "      <th></th>\n",
       "      <th></th>\n",
       "      <th></th>\n",
       "      <th></th>\n",
       "      <th></th>\n",
       "      <th></th>\n",
       "      <th></th>\n",
       "      <th></th>\n",
       "      <th></th>\n",
       "      <th></th>\n",
       "    </tr>\n",
       "  </thead>\n",
       "  <tbody>\n",
       "    <tr>\n",
       "      <th>2009-02-11</th>\n",
       "      <td>5.59</td>\n",
       "      <td>17.14</td>\n",
       "      <td>13.71</td>\n",
       "      <td>5.87</td>\n",
       "      <td>3.45</td>\n",
       "      <td>88.70</td>\n",
       "      <td>14.42</td>\n",
       "      <td>NaN</td>\n",
       "      <td>32.35</td>\n",
       "      <td>2.49</td>\n",
       "      <td>...</td>\n",
       "      <td>16.77</td>\n",
       "      <td>7.17</td>\n",
       "      <td>13.05</td>\n",
       "      <td>13.27</td>\n",
       "      <td>14.33</td>\n",
       "      <td>12.97</td>\n",
       "      <td>7.14</td>\n",
       "      <td>2.28</td>\n",
       "      <td>15.64</td>\n",
       "      <td>32.78</td>\n",
       "    </tr>\n",
       "    <tr>\n",
       "      <th>2009-02-12</th>\n",
       "      <td>5.43</td>\n",
       "      <td>16.55</td>\n",
       "      <td>13.81</td>\n",
       "      <td>5.71</td>\n",
       "      <td>3.45</td>\n",
       "      <td>86.55</td>\n",
       "      <td>13.68</td>\n",
       "      <td>NaN</td>\n",
       "      <td>30.23</td>\n",
       "      <td>2.49</td>\n",
       "      <td>...</td>\n",
       "      <td>16.87</td>\n",
       "      <td>6.85</td>\n",
       "      <td>13.18</td>\n",
       "      <td>12.79</td>\n",
       "      <td>13.90</td>\n",
       "      <td>12.40</td>\n",
       "      <td>7.08</td>\n",
       "      <td>2.26</td>\n",
       "      <td>15.01</td>\n",
       "      <td>33.10</td>\n",
       "    </tr>\n",
       "    <tr>\n",
       "      <th>2009-02-13</th>\n",
       "      <td>5.50</td>\n",
       "      <td>16.41</td>\n",
       "      <td>13.06</td>\n",
       "      <td>5.72</td>\n",
       "      <td>3.77</td>\n",
       "      <td>87.15</td>\n",
       "      <td>13.90</td>\n",
       "      <td>NaN</td>\n",
       "      <td>31.94</td>\n",
       "      <td>2.54</td>\n",
       "      <td>...</td>\n",
       "      <td>16.50</td>\n",
       "      <td>6.88</td>\n",
       "      <td>12.95</td>\n",
       "      <td>13.25</td>\n",
       "      <td>14.59</td>\n",
       "      <td>12.72</td>\n",
       "      <td>7.23</td>\n",
       "      <td>2.15</td>\n",
       "      <td>15.53</td>\n",
       "      <td>31.80</td>\n",
       "    </tr>\n",
       "    <tr>\n",
       "      <th>2009-02-16</th>\n",
       "      <td>5.35</td>\n",
       "      <td>16.02</td>\n",
       "      <td>12.38</td>\n",
       "      <td>5.49</td>\n",
       "      <td>3.53</td>\n",
       "      <td>85.50</td>\n",
       "      <td>13.61</td>\n",
       "      <td>NaN</td>\n",
       "      <td>30.85</td>\n",
       "      <td>2.44</td>\n",
       "      <td>...</td>\n",
       "      <td>16.23</td>\n",
       "      <td>6.54</td>\n",
       "      <td>13.18</td>\n",
       "      <td>13.07</td>\n",
       "      <td>14.30</td>\n",
       "      <td>12.56</td>\n",
       "      <td>7.03</td>\n",
       "      <td>2.08</td>\n",
       "      <td>15.63</td>\n",
       "      <td>32.01</td>\n",
       "    </tr>\n",
       "    <tr>\n",
       "      <th>2009-02-17</th>\n",
       "      <td>5.66</td>\n",
       "      <td>16.30</td>\n",
       "      <td>13.02</td>\n",
       "      <td>5.12</td>\n",
       "      <td>3.33</td>\n",
       "      <td>81.40</td>\n",
       "      <td>13.15</td>\n",
       "      <td>NaN</td>\n",
       "      <td>29.50</td>\n",
       "      <td>2.38</td>\n",
       "      <td>...</td>\n",
       "      <td>15.56</td>\n",
       "      <td>6.01</td>\n",
       "      <td>13.19</td>\n",
       "      <td>12.63</td>\n",
       "      <td>13.87</td>\n",
       "      <td>11.90</td>\n",
       "      <td>7.08</td>\n",
       "      <td>2.03</td>\n",
       "      <td>15.28</td>\n",
       "      <td>31.06</td>\n",
       "    </tr>\n",
       "  </tbody>\n",
       "</table>\n",
       "<p>5 rows × 27 columns</p>\n",
       "</div>"
      ],
      "text/plain": [
       "            iberdrola  naturgy-energy  enags  santander  atresmedia  acciona  \\\n",
       "Date                                                                           \n",
       "2009-02-11       5.59           17.14  13.71       5.87        3.45    88.70   \n",
       "2009-02-12       5.43           16.55  13.81       5.71        3.45    86.55   \n",
       "2009-02-13       5.50           16.41  13.06       5.72        3.77    87.15   \n",
       "2009-02-16       5.35           16.02  12.38       5.49        3.53    85.50   \n",
       "2009-02-17       5.66           16.30  13.02       5.12        3.33    81.40   \n",
       "\n",
       "            repsol  colonial  inditex  caixabank  ...    bme  bbva  grifols  \\\n",
       "Date                                              ...                         \n",
       "2009-02-11   14.42       NaN    32.35       2.49  ...  16.77  7.17    13.05   \n",
       "2009-02-12   13.68       NaN    30.23       2.49  ...  16.87  6.85    13.18   \n",
       "2009-02-13   13.90       NaN    31.94       2.54  ...  16.50  6.88    12.95   \n",
       "2009-02-16   13.61       NaN    30.85       2.44  ...  16.23  6.54    13.18   \n",
       "2009-02-17   13.15       NaN    29.50       2.38  ...  15.56  6.01    13.19   \n",
       "\n",
       "            siemens-gamesa  telefnica  abengoa  bankinter  mapfre  indra  \\\n",
       "Date                                                                       \n",
       "2009-02-11           13.27      14.33    12.97       7.14    2.28  15.64   \n",
       "2009-02-12           12.79      13.90    12.40       7.08    2.26  15.01   \n",
       "2009-02-13           13.25      14.59    12.72       7.23    2.15  15.53   \n",
       "2009-02-16           13.07      14.30    12.56       7.03    2.08  15.63   \n",
       "2009-02-17           12.63      13.87    11.90       7.08    2.03  15.28   \n",
       "\n",
       "            red-elctrica  \n",
       "Date                      \n",
       "2009-02-11         32.78  \n",
       "2009-02-12         33.10  \n",
       "2009-02-13         31.80  \n",
       "2009-02-16         32.01  \n",
       "2009-02-17         31.06  \n",
       "\n",
       "[5 rows x 27 columns]"
      ]
     },
     "execution_count": 4,
     "metadata": {},
     "output_type": "execute_result"
    }
   ],
   "source": [
    "original_df = pd.DataFrame()\n",
    "for stock in stocks:\n",
    "    original_df[stock] = pd.read_csv(\"data/\" + stock, index_col = \"Date\")[\"Close\"]\n",
    "for i in range(len(original_df.columns)):\n",
    "    original_df.columns.values[i] = original_df.columns.values[i][:-4]\n",
    "    \n",
    "original_df.head()    "
   ]
  },
  {
   "cell_type": "markdown",
   "metadata": {},
   "source": [
    "# Graphs and Basic Analytics"
   ]
  },
  {
   "cell_type": "code",
   "execution_count": 5,
   "metadata": {},
   "outputs": [
    {
     "name": "stderr",
     "output_type": "stream",
     "text": [
      "/home/ec2-user/anaconda3/envs/amazonei_mxnet_p36/lib/python3.6/site-packages/pandas/plotting/_converter.py:129: FutureWarning: Using an implicitly registered datetime converter for a matplotlib plotting method. The converter was registered by pandas on import. Future versions of pandas will require you to explicitly register matplotlib converters.\n",
      "\n",
      "To register the converters:\n",
      "\t>>> from pandas.plotting import register_matplotlib_converters\n",
      "\t>>> register_matplotlib_converters()\n",
      "  warnings.warn(msg, FutureWarning)\n"
     ]
    },
    {
     "data": {
      "text/plain": [
       "Text(0, 0.5, 'Price')"
      ]
     },
     "execution_count": 5,
     "metadata": {},
     "output_type": "execute_result"
    },
    {
     "data": {
      "image/png": "[encoded data removed]",
      "text/plain": [
       "<Figure size 1040x720 with 1 Axes>"
      ]
     },
     "metadata": {},
     "output_type": "display_data"
    }
   ],
   "source": [
    "original_df.index = pd.to_datetime(original_df.index)\n",
    "plt.figure(num=None, figsize=(13, 9), dpi=80, facecolor='w', edgecolor='k')\n",
    "plt.plot(original_df.iloc[:,0:10])\n",
    "plt.legend(['Ibedrola',\"Naturgy Energy\",\"Enags\", \"Santander\",\"Atresmedia\", \"Acciona\" ])\n",
    "plt.ylabel(\"Price\")"
   ]
  },
  {
   "cell_type": "code",
   "execution_count": 6,
   "metadata": {},
   "outputs": [
    {
     "data": {
      "text/html": [
       "<div>\n",
       "<style scoped>\n",
       "    .dataframe tbody tr th:only-of-type {\n",
       "        vertical-align: middle;\n",
       "    }\n",
       "\n",
       "    .dataframe tbody tr th {\n",
       "        vertical-align: top;\n",
       "    }\n",
       "\n",
       "    .dataframe thead th {\n",
       "        text-align: right;\n",
       "    }\n",
       "</style>\n",
       "<table border=\"1\" class=\"dataframe\">\n",
       "  <thead>\n",
       "    <tr style=\"text-align: right;\">\n",
       "      <th></th>\n",
       "      <th>iberdrola</th>\n",
       "      <th>naturgy-energy</th>\n",
       "      <th>enags</th>\n",
       "      <th>santander</th>\n",
       "      <th>atresmedia</th>\n",
       "      <th>acciona</th>\n",
       "      <th>repsol</th>\n",
       "      <th>colonial</th>\n",
       "      <th>inditex</th>\n",
       "      <th>caixabank</th>\n",
       "      <th>...</th>\n",
       "      <th>bme</th>\n",
       "      <th>bbva</th>\n",
       "      <th>grifols</th>\n",
       "      <th>siemens-gamesa</th>\n",
       "      <th>telefnica</th>\n",
       "      <th>abengoa</th>\n",
       "      <th>bankinter</th>\n",
       "      <th>mapfre</th>\n",
       "      <th>indra</th>\n",
       "      <th>red-elctrica</th>\n",
       "    </tr>\n",
       "  </thead>\n",
       "  <tbody>\n",
       "    <tr>\n",
       "      <th>count</th>\n",
       "      <td>2604.000000</td>\n",
       "      <td>2604.000000</td>\n",
       "      <td>2604.000000</td>\n",
       "      <td>2604.000000</td>\n",
       "      <td>2601.000000</td>\n",
       "      <td>2603.000000</td>\n",
       "      <td>2604.000000</td>\n",
       "      <td>2242.000000</td>\n",
       "      <td>2604.000000</td>\n",
       "      <td>2570.000000</td>\n",
       "      <td>...</td>\n",
       "      <td>2604.000000</td>\n",
       "      <td>2604.000000</td>\n",
       "      <td>2604.000000</td>\n",
       "      <td>2604.000000</td>\n",
       "      <td>2604.000000</td>\n",
       "      <td>2603.000000</td>\n",
       "      <td>2604.000000</td>\n",
       "      <td>2604.000000</td>\n",
       "      <td>2604.000000</td>\n",
       "      <td>2604.000000</td>\n",
       "    </tr>\n",
       "    <tr>\n",
       "      <th>mean</th>\n",
       "      <td>5.396829</td>\n",
       "      <td>16.967475</td>\n",
       "      <td>20.381432</td>\n",
       "      <td>6.027944</td>\n",
       "      <td>7.908727</td>\n",
       "      <td>66.590903</td>\n",
       "      <td>15.634099</td>\n",
       "      <td>4.306224</td>\n",
       "      <td>34.989477</td>\n",
       "      <td>3.463835</td>\n",
       "      <td>...</td>\n",
       "      <td>25.531759</td>\n",
       "      <td>7.360235</td>\n",
       "      <td>19.051526</td>\n",
       "      <td>9.852517</td>\n",
       "      <td>11.852211</td>\n",
       "      <td>5.840077</td>\n",
       "      <td>5.847859</td>\n",
       "      <td>2.606791</td>\n",
       "      <td>11.441373</td>\n",
       "      <td>28.540112</td>\n",
       "    </tr>\n",
       "    <tr>\n",
       "      <th>std</th>\n",
       "      <td>1.063294</td>\n",
       "      <td>4.257420</td>\n",
       "      <td>5.047747</td>\n",
       "      <td>1.990627</td>\n",
       "      <td>3.165302</td>\n",
       "      <td>14.117735</td>\n",
       "      <td>3.194638</td>\n",
       "      <td>3.528028</td>\n",
       "      <td>14.793311</td>\n",
       "      <td>0.737223</td>\n",
       "      <td>...</td>\n",
       "      <td>5.980988</td>\n",
       "      <td>1.830331</td>\n",
       "      <td>5.963078</td>\n",
       "      <td>5.207956</td>\n",
       "      <td>3.424996</td>\n",
       "      <td>7.563162</td>\n",
       "      <td>2.032695</td>\n",
       "      <td>0.383327</td>\n",
       "      <td>2.353781</td>\n",
       "      <td>11.249886</td>\n",
       "    </tr>\n",
       "    <tr>\n",
       "      <th>min</th>\n",
       "      <td>2.479000</td>\n",
       "      <td>8.500000</td>\n",
       "      <td>10.890000</td>\n",
       "      <td>3.190000</td>\n",
       "      <td>2.860000</td>\n",
       "      <td>30.470000</td>\n",
       "      <td>7.384000</td>\n",
       "      <td>0.060000</td>\n",
       "      <td>15.580000</td>\n",
       "      <td>1.811000</td>\n",
       "      <td>...</td>\n",
       "      <td>13.170000</td>\n",
       "      <td>4.191000</td>\n",
       "      <td>8.010000</td>\n",
       "      <td>1.006000</td>\n",
       "      <td>6.633000</td>\n",
       "      <td>0.010600</td>\n",
       "      <td>1.350000</td>\n",
       "      <td>1.323000</td>\n",
       "      <td>6.103000</td>\n",
       "      <td>14.980000</td>\n",
       "    </tr>\n",
       "    <tr>\n",
       "      <th>25%</th>\n",
       "      <td>4.679000</td>\n",
       "      <td>13.019250</td>\n",
       "      <td>15.198750</td>\n",
       "      <td>4.588000</td>\n",
       "      <td>4.940000</td>\n",
       "      <td>59.140000</td>\n",
       "      <td>13.581250</td>\n",
       "      <td>0.318500</td>\n",
       "      <td>23.850000</td>\n",
       "      <td>2.829000</td>\n",
       "      <td>...</td>\n",
       "      <td>20.261500</td>\n",
       "      <td>5.971000</td>\n",
       "      <td>12.831000</td>\n",
       "      <td>5.510000</td>\n",
       "      <td>9.240250</td>\n",
       "      <td>0.448500</td>\n",
       "      <td>4.477750</td>\n",
       "      <td>2.370000</td>\n",
       "      <td>9.748750</td>\n",
       "      <td>18.389250</td>\n",
       "    </tr>\n",
       "    <tr>\n",
       "      <th>50%</th>\n",
       "      <td>5.621500</td>\n",
       "      <td>17.522500</td>\n",
       "      <td>21.522500</td>\n",
       "      <td>5.491000</td>\n",
       "      <td>7.655000</td>\n",
       "      <td>67.560000</td>\n",
       "      <td>15.738000</td>\n",
       "      <td>5.750000</td>\n",
       "      <td>30.130000</td>\n",
       "      <td>3.500000</td>\n",
       "      <td>...</td>\n",
       "      <td>25.750000</td>\n",
       "      <td>7.196000</td>\n",
       "      <td>19.300000</td>\n",
       "      <td>9.839500</td>\n",
       "      <td>10.937000</td>\n",
       "      <td>2.454000</td>\n",
       "      <td>6.368000</td>\n",
       "      <td>2.634000</td>\n",
       "      <td>11.097500</td>\n",
       "      <td>29.790000</td>\n",
       "    </tr>\n",
       "    <tr>\n",
       "      <th>75%</th>\n",
       "      <td>6.080000</td>\n",
       "      <td>20.441250</td>\n",
       "      <td>25.010000</td>\n",
       "      <td>6.848250</td>\n",
       "      <td>10.570000</td>\n",
       "      <td>74.535000</td>\n",
       "      <td>17.483250</td>\n",
       "      <td>7.064000</td>\n",
       "      <td>42.552500</td>\n",
       "      <td>4.020000</td>\n",
       "      <td>...</td>\n",
       "      <td>29.496250</td>\n",
       "      <td>8.457500</td>\n",
       "      <td>23.910250</td>\n",
       "      <td>13.571250</td>\n",
       "      <td>13.852500</td>\n",
       "      <td>4.626000</td>\n",
       "      <td>7.300000</td>\n",
       "      <td>2.880000</td>\n",
       "      <td>13.140000</td>\n",
       "      <td>36.550000</td>\n",
       "    </tr>\n",
       "    <tr>\n",
       "      <th>max</th>\n",
       "      <td>8.870000</td>\n",
       "      <td>26.950000</td>\n",
       "      <td>29.400000</td>\n",
       "      <td>11.980000</td>\n",
       "      <td>15.670000</td>\n",
       "      <td>105.700000</td>\n",
       "      <td>24.090000</td>\n",
       "      <td>10.140000</td>\n",
       "      <td>81.530000</td>\n",
       "      <td>5.240000</td>\n",
       "      <td>...</td>\n",
       "      <td>43.300000</td>\n",
       "      <td>13.220000</td>\n",
       "      <td>33.840000</td>\n",
       "      <td>20.880000</td>\n",
       "      <td>19.800000</td>\n",
       "      <td>24.000000</td>\n",
       "      <td>9.520000</td>\n",
       "      <td>3.605000</td>\n",
       "      <td>17.820000</td>\n",
       "      <td>64.900000</td>\n",
       "    </tr>\n",
       "  </tbody>\n",
       "</table>\n",
       "<p>8 rows × 27 columns</p>\n",
       "</div>"
      ],
      "text/plain": [
       "         iberdrola  naturgy-energy        enags    santander   atresmedia  \\\n",
       "count  2604.000000     2604.000000  2604.000000  2604.000000  2601.000000   \n",
       "mean      5.396829       16.967475    20.381432     6.027944     7.908727   \n",
       "std       1.063294        4.257420     5.047747     1.990627     3.165302   \n",
       "min       2.479000        8.500000    10.890000     3.190000     2.860000   \n",
       "25%       4.679000       13.019250    15.198750     4.588000     4.940000   \n",
       "50%       5.621500       17.522500    21.522500     5.491000     7.655000   \n",
       "75%       6.080000       20.441250    25.010000     6.848250    10.570000   \n",
       "max       8.870000       26.950000    29.400000    11.980000    15.670000   \n",
       "\n",
       "           acciona       repsol     colonial      inditex    caixabank  ...  \\\n",
       "count  2603.000000  2604.000000  2242.000000  2604.000000  2570.000000  ...   \n",
       "mean     66.590903    15.634099     4.306224    34.989477     3.463835  ...   \n",
       "std      14.117735     3.194638     3.528028    14.793311     0.737223  ...   \n",
       "min      30.470000     7.384000     0.060000    15.580000     1.811000  ...   \n",
       "25%      59.140000    13.581250     0.318500    23.850000     2.829000  ...   \n",
       "50%      67.560000    15.738000     5.750000    30.130000     3.500000  ...   \n",
       "75%      74.535000    17.483250     7.064000    42.552500     4.020000  ...   \n",
       "max     105.700000    24.090000    10.140000    81.530000     5.240000  ...   \n",
       "\n",
       "               bme         bbva      grifols  siemens-gamesa    telefnica  \\\n",
       "count  2604.000000  2604.000000  2604.000000     2604.000000  2604.000000   \n",
       "mean     25.531759     7.360235    19.051526        9.852517    11.852211   \n",
       "std       5.980988     1.830331     5.963078        5.207956     3.424996   \n",
       "min      13.170000     4.191000     8.010000        1.006000     6.633000   \n",
       "25%      20.261500     5.971000    12.831000        5.510000     9.240250   \n",
       "50%      25.750000     7.196000    19.300000        9.839500    10.937000   \n",
       "75%      29.496250     8.457500    23.910250       13.571250    13.852500   \n",
       "max      43.300000    13.220000    33.840000       20.880000    19.800000   \n",
       "\n",
       "           abengoa    bankinter       mapfre        indra  red-elctrica  \n",
       "count  2603.000000  2604.000000  2604.000000  2604.000000   2604.000000  \n",
       "mean      5.840077     5.847859     2.606791    11.441373     28.540112  \n",
       "std       7.563162     2.032695     0.383327     2.353781     11.249886  \n",
       "min       0.010600     1.350000     1.323000     6.103000     14.980000  \n",
       "25%       0.448500     4.477750     2.370000     9.748750     18.389250  \n",
       "50%       2.454000     6.368000     2.634000    11.097500     29.790000  \n",
       "75%       4.626000     7.300000     2.880000    13.140000     36.550000  \n",
       "max      24.000000     9.520000     3.605000    17.820000     64.900000  \n",
       "\n",
       "[8 rows x 27 columns]"
      ]
     },
     "execution_count": 6,
     "metadata": {},
     "output_type": "execute_result"
    }
   ],
   "source": [
    "np.mean((original_df.describe().iloc[0,:]))\n",
    "original_df.describe()"
   ]
  },
  {
   "cell_type": "code",
   "execution_count": 7,
   "metadata": {},
   "outputs": [
    {
     "data": {
      "text/plain": [
       "0.10817802806865963"
      ]
     },
     "execution_count": 7,
     "metadata": {},
     "output_type": "execute_result"
    }
   ],
   "source": [
    "((original_df.iloc[-1,:]-original_df.iloc[0,:])/original_df.iloc[0,:]).mean()"
   ]
  },
  {
   "cell_type": "code",
   "execution_count": 8,
   "metadata": {},
   "outputs": [
    {
     "data": {
      "text/plain": [
       "1.5097953090956915"
      ]
     },
     "execution_count": 8,
     "metadata": {},
     "output_type": "execute_result"
    }
   ],
   "source": [
    "pct_df = original_df.pct_change()\n",
    "(((pct_df.mean()).mean()+1)** 250)"
   ]
  },
  {
   "cell_type": "code",
   "execution_count": 9,
   "metadata": {},
   "outputs": [
    {
     "data": {
      "text/plain": [
       "Text(0, 0.5, 'Return')"
      ]
     },
     "execution_count": 9,
     "metadata": {},
     "output_type": "execute_result"
    },
    {
     "data": {
      "image/png": "[encoded data removed]",
      "text/plain": [
       "<Figure size 1040x720 with 1 Axes>"
      ]
     },
     "metadata": {},
     "output_type": "display_data"
    }
   ],
   "source": [
    "pct_df.index = pd.to_datetime(pct_df.index)\n",
    "plt.figure(num=None, figsize=(13, 9), dpi=80, facecolor='w', edgecolor='k')\n",
    "plt.plot(pct_df.iloc[:,0:7])\n",
    "plt.legend(['Ibedrola',\"Naturgy Energy\",\"Enags\", \"Santander\",\"Atresmedia\", \"Acciona\" ])\n",
    "plt.ylabel(\"Return\")\n",
    "#original_df\n",
    "#current"
   ]
  },
  {
   "cell_type": "code",
   "execution_count": 10,
   "metadata": {},
   "outputs": [],
   "source": [
    "#Function to get rid of outliers so histogram looks acceptable\n",
    "def removeOutliers(x, outlierConstant):\n",
    "    a = np.array(x)\n",
    "    upper_quartile = np.percentile(a, 75)\n",
    "    lower_quartile = np.percentile(a, 25)\n",
    "    IQR = (upper_quartile - lower_quartile) * outlierConstant\n",
    "    quartileSet = (lower_quartile - IQR, upper_quartile + IQR)\n",
    "    \n",
    "    result = a[np.where((a >= quartileSet[0]) & (a <= quartileSet[1]))]\n",
    "    \n",
    "    return result.tolist()\n",
    "#Taken from https://gist.github.com/vishalkuo/f4aec300cf6252ed28d3"
   ]
  },
  {
   "cell_type": "code",
   "execution_count": 11,
   "metadata": {},
   "outputs": [
    {
     "data": {
      "text/plain": [
       "67798.65542647796"
      ]
     },
     "execution_count": 11,
     "metadata": {},
     "output_type": "execute_result"
    }
   ],
   "source": [
    "all_data = pct_df.stack().to_list()\n",
    "data_mean= np.mean(all_data)\n",
    "data_std = np.std(all_data)\n",
    "kurtosis(all_data)"
   ]
  },
  {
   "cell_type": "code",
   "execution_count": 12,
   "metadata": {},
   "outputs": [],
   "source": [
    "all_data = pct_df.stack().to_list()\n",
    "all_data = np.asarray(all_data)\n",
    "#all_data[np.argsort(all_data)[-100:]]\n",
    "all_data = removeOutliers(all_data,5)\n",
    "y = np.random.normal(loc=data_mean, scale=data_std, size=1000)\n"
   ]
  },
  {
   "cell_type": "code",
   "execution_count": 13,
   "metadata": {},
   "outputs": [],
   "source": [
    "hist,bin_edges = np.histogram(all_data, bins = 450, density = False)\n",
    "\n",
    "hist2,bin_edges2 = np.histogram(y, bins = 450, density = False)\n"
   ]
  },
  {
   "cell_type": "code",
   "execution_count": null,
   "metadata": {},
   "outputs": [],
   "source": []
  },
  {
   "cell_type": "code",
   "execution_count": 14,
   "metadata": {},
   "outputs": [
    {
     "data": {
      "image/png": "[encoded data removed]",
      "text/plain": [
       "<Figure size 720x576 with 1 Axes>"
      ]
     },
     "metadata": {},
     "output_type": "display_data"
    }
   ],
   "source": [
    "#plt.hist(all_data,bins=100)\n",
    "\n",
    "plt.figure(figsize=[10,8])\n",
    "plt.bar(bin_edges[:-1], hist, width = 0.001, color='#0504aa',alpha=0.7)\n",
    "plt.xlim(min(bin_edges), max(bin_edges))\n",
    "plt.grid(axis='y', alpha=1)\n",
    "plt.xlabel('Value',fontsize=15)\n",
    "plt.ylabel('Frequency',fontsize=15)\n",
    "plt.xticks(fontsize=15)\n",
    "plt.yticks(fontsize=15)\n",
    "plt.ylabel('Frequency',fontsize=15)\n",
    "plt.title('Distribution Histogram',fontsize=15)\n",
    "\n",
    "plt.show()"
   ]
  },
  {
   "cell_type": "code",
   "execution_count": 15,
   "metadata": {},
   "outputs": [
    {
     "data": {
      "image/png": "[encoded data removed]",
      "text/plain": [
       "<Figure size 720x576 with 1 Axes>"
      ]
     },
     "metadata": {},
     "output_type": "display_data"
    }
   ],
   "source": [
    "#plt.figure(num=None, figsize=(13, 9), dpi=80, facecolor='w', edgecolor='k')\n",
    "\n",
    "#plt.hist(all_data,bins=100)\n",
    "\n",
    "plt.figure(figsize=[10,8])\n",
    "\n",
    "plt.bar(bin_edges[:-1], hist, width = 0.001, color='#0504aa',alpha=0.7)\n",
    "plt.xlim(min(bin_edges), max(bin_edges))\n",
    "plt.grid(axis='y', alpha=1)\n",
    "plt.xlabel('Value',fontsize=15)\n",
    "plt.ylabel('Frequency',fontsize=15)\n",
    "plt.xticks(fontsize=15)\n",
    "plt.yticks(fontsize=15)\n",
    "plt.ylabel('Frequency',fontsize=15)\n",
    "plt.title('Normal Distribution Histogram',fontsize=15)\n",
    "plt.show()"
   ]
  },
  {
   "cell_type": "code",
   "execution_count": 16,
   "metadata": {},
   "outputs": [
    {
     "data": {
      "text/html": [
       "<div>\n",
       "<style scoped>\n",
       "    .dataframe tbody tr th:only-of-type {\n",
       "        vertical-align: middle;\n",
       "    }\n",
       "\n",
       "    .dataframe tbody tr th {\n",
       "        vertical-align: top;\n",
       "    }\n",
       "\n",
       "    .dataframe thead th {\n",
       "        text-align: right;\n",
       "    }\n",
       "</style>\n",
       "<table border=\"1\" class=\"dataframe\">\n",
       "  <thead>\n",
       "    <tr style=\"text-align: right;\">\n",
       "      <th></th>\n",
       "      <th>iberdrola</th>\n",
       "      <th>naturgy-energy</th>\n",
       "      <th>enags</th>\n",
       "      <th>santander</th>\n",
       "      <th>atresmedia</th>\n",
       "      <th>acciona</th>\n",
       "      <th>repsol</th>\n",
       "      <th>colonial</th>\n",
       "      <th>inditex</th>\n",
       "      <th>caixabank</th>\n",
       "      <th>...</th>\n",
       "      <th>bme</th>\n",
       "      <th>bbva</th>\n",
       "      <th>grifols</th>\n",
       "      <th>siemens-gamesa</th>\n",
       "      <th>telefnica</th>\n",
       "      <th>abengoa</th>\n",
       "      <th>bankinter</th>\n",
       "      <th>mapfre</th>\n",
       "      <th>indra</th>\n",
       "      <th>red-elctrica</th>\n",
       "    </tr>\n",
       "    <tr>\n",
       "      <th>Date</th>\n",
       "      <th></th>\n",
       "      <th></th>\n",
       "      <th></th>\n",
       "      <th></th>\n",
       "      <th></th>\n",
       "      <th></th>\n",
       "      <th></th>\n",
       "      <th></th>\n",
       "      <th></th>\n",
       "      <th></th>\n",
       "      <th></th>\n",
       "      <th></th>\n",
       "      <th></th>\n",
       "      <th></th>\n",
       "      <th></th>\n",
       "      <th></th>\n",
       "      <th></th>\n",
       "      <th></th>\n",
       "      <th></th>\n",
       "      <th></th>\n",
       "      <th></th>\n",
       "    </tr>\n",
       "  </thead>\n",
       "  <tbody>\n",
       "    <tr>\n",
       "      <th>2009-02-11</th>\n",
       "      <td>5.59</td>\n",
       "      <td>17.14</td>\n",
       "      <td>13.71</td>\n",
       "      <td>5.87</td>\n",
       "      <td>3.45</td>\n",
       "      <td>88.70</td>\n",
       "      <td>14.42</td>\n",
       "      <td>NaN</td>\n",
       "      <td>32.35</td>\n",
       "      <td>2.49</td>\n",
       "      <td>...</td>\n",
       "      <td>16.77</td>\n",
       "      <td>7.17</td>\n",
       "      <td>13.05</td>\n",
       "      <td>13.27</td>\n",
       "      <td>14.33</td>\n",
       "      <td>12.97</td>\n",
       "      <td>7.14</td>\n",
       "      <td>2.28</td>\n",
       "      <td>15.64</td>\n",
       "      <td>32.78</td>\n",
       "    </tr>\n",
       "    <tr>\n",
       "      <th>2009-02-12</th>\n",
       "      <td>5.43</td>\n",
       "      <td>16.55</td>\n",
       "      <td>13.81</td>\n",
       "      <td>5.71</td>\n",
       "      <td>3.45</td>\n",
       "      <td>86.55</td>\n",
       "      <td>13.68</td>\n",
       "      <td>NaN</td>\n",
       "      <td>30.23</td>\n",
       "      <td>2.49</td>\n",
       "      <td>...</td>\n",
       "      <td>16.87</td>\n",
       "      <td>6.85</td>\n",
       "      <td>13.18</td>\n",
       "      <td>12.79</td>\n",
       "      <td>13.90</td>\n",
       "      <td>12.40</td>\n",
       "      <td>7.08</td>\n",
       "      <td>2.26</td>\n",
       "      <td>15.01</td>\n",
       "      <td>33.10</td>\n",
       "    </tr>\n",
       "    <tr>\n",
       "      <th>2009-02-13</th>\n",
       "      <td>5.50</td>\n",
       "      <td>16.41</td>\n",
       "      <td>13.06</td>\n",
       "      <td>5.72</td>\n",
       "      <td>3.77</td>\n",
       "      <td>87.15</td>\n",
       "      <td>13.90</td>\n",
       "      <td>NaN</td>\n",
       "      <td>31.94</td>\n",
       "      <td>2.54</td>\n",
       "      <td>...</td>\n",
       "      <td>16.50</td>\n",
       "      <td>6.88</td>\n",
       "      <td>12.95</td>\n",
       "      <td>13.25</td>\n",
       "      <td>14.59</td>\n",
       "      <td>12.72</td>\n",
       "      <td>7.23</td>\n",
       "      <td>2.15</td>\n",
       "      <td>15.53</td>\n",
       "      <td>31.80</td>\n",
       "    </tr>\n",
       "    <tr>\n",
       "      <th>2009-02-16</th>\n",
       "      <td>5.35</td>\n",
       "      <td>16.02</td>\n",
       "      <td>12.38</td>\n",
       "      <td>5.49</td>\n",
       "      <td>3.53</td>\n",
       "      <td>85.50</td>\n",
       "      <td>13.61</td>\n",
       "      <td>NaN</td>\n",
       "      <td>30.85</td>\n",
       "      <td>2.44</td>\n",
       "      <td>...</td>\n",
       "      <td>16.23</td>\n",
       "      <td>6.54</td>\n",
       "      <td>13.18</td>\n",
       "      <td>13.07</td>\n",
       "      <td>14.30</td>\n",
       "      <td>12.56</td>\n",
       "      <td>7.03</td>\n",
       "      <td>2.08</td>\n",
       "      <td>15.63</td>\n",
       "      <td>32.01</td>\n",
       "    </tr>\n",
       "    <tr>\n",
       "      <th>2009-02-17</th>\n",
       "      <td>5.66</td>\n",
       "      <td>16.30</td>\n",
       "      <td>13.02</td>\n",
       "      <td>5.12</td>\n",
       "      <td>3.33</td>\n",
       "      <td>81.40</td>\n",
       "      <td>13.15</td>\n",
       "      <td>NaN</td>\n",
       "      <td>29.50</td>\n",
       "      <td>2.38</td>\n",
       "      <td>...</td>\n",
       "      <td>15.56</td>\n",
       "      <td>6.01</td>\n",
       "      <td>13.19</td>\n",
       "      <td>12.63</td>\n",
       "      <td>13.87</td>\n",
       "      <td>11.90</td>\n",
       "      <td>7.08</td>\n",
       "      <td>2.03</td>\n",
       "      <td>15.28</td>\n",
       "      <td>31.06</td>\n",
       "    </tr>\n",
       "  </tbody>\n",
       "</table>\n",
       "<p>5 rows × 27 columns</p>\n",
       "</div>"
      ],
      "text/plain": [
       "            iberdrola  naturgy-energy  enags  santander  atresmedia  acciona  \\\n",
       "Date                                                                           \n",
       "2009-02-11       5.59           17.14  13.71       5.87        3.45    88.70   \n",
       "2009-02-12       5.43           16.55  13.81       5.71        3.45    86.55   \n",
       "2009-02-13       5.50           16.41  13.06       5.72        3.77    87.15   \n",
       "2009-02-16       5.35           16.02  12.38       5.49        3.53    85.50   \n",
       "2009-02-17       5.66           16.30  13.02       5.12        3.33    81.40   \n",
       "\n",
       "            repsol  colonial  inditex  caixabank  ...    bme  bbva  grifols  \\\n",
       "Date                                              ...                         \n",
       "2009-02-11   14.42       NaN    32.35       2.49  ...  16.77  7.17    13.05   \n",
       "2009-02-12   13.68       NaN    30.23       2.49  ...  16.87  6.85    13.18   \n",
       "2009-02-13   13.90       NaN    31.94       2.54  ...  16.50  6.88    12.95   \n",
       "2009-02-16   13.61       NaN    30.85       2.44  ...  16.23  6.54    13.18   \n",
       "2009-02-17   13.15       NaN    29.50       2.38  ...  15.56  6.01    13.19   \n",
       "\n",
       "            siemens-gamesa  telefnica  abengoa  bankinter  mapfre  indra  \\\n",
       "Date                                                                       \n",
       "2009-02-11           13.27      14.33    12.97       7.14    2.28  15.64   \n",
       "2009-02-12           12.79      13.90    12.40       7.08    2.26  15.01   \n",
       "2009-02-13           13.25      14.59    12.72       7.23    2.15  15.53   \n",
       "2009-02-16           13.07      14.30    12.56       7.03    2.08  15.63   \n",
       "2009-02-17           12.63      13.87    11.90       7.08    2.03  15.28   \n",
       "\n",
       "            red-elctrica  \n",
       "Date                      \n",
       "2009-02-11         32.78  \n",
       "2009-02-12         33.10  \n",
       "2009-02-13         31.80  \n",
       "2009-02-16         32.01  \n",
       "2009-02-17         31.06  \n",
       "\n",
       "[5 rows x 27 columns]"
      ]
     },
     "execution_count": 16,
     "metadata": {},
     "output_type": "execute_result"
    }
   ],
   "source": [
    "original_df.head()"
   ]
  },
  {
   "cell_type": "markdown",
   "metadata": {},
   "source": [
    "# Data Prepocessing Step"
   ]
  },
  {
   "cell_type": "markdown",
   "metadata": {},
   "source": [
    "# Formula \n",
    "\n",
    "$$Vol = 100 * \\sqrt{\\frac{252}{n}\\sum^{n}_{t=1}R^2_t}$$ \n",
    "$$R_t = Ln\\frac{P_t}{P_{t-1}}$$"
   ]
  },
  {
   "cell_type": "code",
   "execution_count": 17,
   "metadata": {},
   "outputs": [],
   "source": [
    "def create_data(df, look_back, predict_next, stocks):\n",
    "    return_df = pd.DataFrame()\n",
    "    df_len = len(df)\n",
    "    log_pow_df = np.log(df).diff().pow(2)\n",
    "    direction_df = df.pct_change()\n",
    "    h = 0\n",
    "    stocks_len = len(stocks)\n",
    "    print(\"Part 1 Start\")\n",
    "    for stock in stocks:       \n",
    "        direction_df[stock].loc[direction_df[stock] > 0] = 1\n",
    "        direction_df[stock].loc[direction_df[stock] < 0] = -1\n",
    "        h = h+1\n",
    "        print(\"Part 1, Stock \" + str(h) + \" out of \"+ str(stocks_len)+\" processed\" )\n",
    "    h = 0\n",
    "    print(\"Part 2 Start\")\n",
    "    for stock in stocks:\n",
    "        h = h+1\n",
    "        for i in range(0,df_len-(predict_next+look_back)):\n",
    "            x_data = log_pow_df[stock].rolling(1).sum()[i:i+look_back]**(1/2)*(252)**(1/2)*100 *  direction_df[stock][i:i+look_back]\n",
    "            y_data = log_pow_df[stock].rolling(predict_next).sum()[i+look_back +predict_next ]**(1/2)*(252/predict_next)**(1/2)*100        \n",
    "            return_df = pd.concat([return_df,pd.DataFrame(np.concatenate((y_data, x_data), axis=None))],axis=1)          \n",
    "        print(\"Part 2, Stock \" + str(h) + \" out of \"+ str(stocks_len)+\" processed\" )\n",
    "    return_df.dropna(axis=1,inplace=True)\n",
    "    print(\"Finihed!\")\n",
    "    return return_df.transpose()"
   ]
  },
  {
   "cell_type": "code",
   "execution_count": 18,
   "metadata": {},
   "outputs": [],
   "source": [
    "def benchmark(df, look_back, predict_next, stocks):\n",
    "    return_df = pd.DataFrame()\n",
    "    df_len = len(df)\n",
    "    log_pow_df = np.log(df).diff().pow(2)\n",
    "    direction_df = df.pct_change()\n",
    "    h = 0\n",
    "    stocks_len = len(stocks)\n",
    "    print(\"Part 1 Start\")\n",
    "    for stock in stocks:       \n",
    "        direction_df[stock].loc[direction_df[stock] > 0] = 1\n",
    "        direction_df[stock].loc[direction_df[stock] < 0] = -1\n",
    "        h = h+1\n",
    "        print(\"Part 1, Stock \" + str(h) + \" out of \"+ str(stocks_len)+\" processed\" )\n",
    "    h = 0\n",
    "    print(\"Part 2 Start\")\n",
    "    for stock in stocks:\n",
    "        h = h+1\n",
    "        for i in range(0,df_len-(predict_next+look_back)):\n",
    "            x_pred = log_pow_df[stock].rolling(look_back).sum()[i+look_back]**(1/2)*(252/look_back)**(1/2)*100 \n",
    "\n",
    "            y_data = log_pow_df[stock].rolling(predict_next).sum()[i+look_back +predict_next ]**(1/2)*(252/predict_next)**(1/2)*100        \n",
    "            return_df = pd.concat([return_df,pd.DataFrame(np.concatenate((y_data, x_pred), axis=None))],axis=1)          \n",
    "        print(\"Part 2, Stock \" + str(h) + \" out of \"+ str(stocks_len)+\" processed\" )\n",
    "    return_df.dropna(axis=1,inplace=True)\n",
    "    print(\"Finihed!\")\n",
    "    return return_df.transpose()"
   ]
  },
  {
   "cell_type": "code",
   "execution_count": 19,
   "metadata": {},
   "outputs": [
    {
     "name": "stdout",
     "output_type": "stream",
     "text": [
      "Part 1 Start\n",
      "Part 1, Stock 1 out of 27 processed\n",
      "Part 1, Stock 2 out of 27 processed\n",
      "Part 1, Stock 3 out of 27 processed\n",
      "Part 1, Stock 4 out of 27 processed\n",
      "Part 1, Stock 5 out of 27 processed\n",
      "Part 1, Stock 6 out of 27 processed\n",
      "Part 1, Stock 7 out of 27 processed\n",
      "Part 1, Stock 8 out of 27 processed\n",
      "Part 1, Stock 9 out of 27 processed\n",
      "Part 1, Stock 10 out of 27 processed\n",
      "Part 1, Stock 11 out of 27 processed\n",
      "Part 1, Stock 12 out of 27 processed\n",
      "Part 1, Stock 13 out of 27 processed\n",
      "Part 1, Stock 14 out of 27 processed\n",
      "Part 1, Stock 15 out of 27 processed\n",
      "Part 1, Stock 16 out of 27 processed\n",
      "Part 1, Stock 17 out of 27 processed\n",
      "Part 1, Stock 18 out of 27 processed\n",
      "Part 1, Stock 19 out of 27 processed\n",
      "Part 1, Stock 20 out of 27 processed\n",
      "Part 1, Stock 21 out of 27 processed\n",
      "Part 1, Stock 22 out of 27 processed\n",
      "Part 1, Stock 23 out of 27 processed\n",
      "Part 1, Stock 24 out of 27 processed\n",
      "Part 1, Stock 25 out of 27 processed\n",
      "Part 1, Stock 26 out of 27 processed\n",
      "Part 1, Stock 27 out of 27 processed\n",
      "Part 2 Start\n",
      "Part 2, Stock 1 out of 27 processed\n",
      "Part 2, Stock 2 out of 27 processed\n",
      "Part 2, Stock 3 out of 27 processed\n",
      "Part 2, Stock 4 out of 27 processed\n",
      "Part 2, Stock 5 out of 27 processed\n",
      "Part 2, Stock 6 out of 27 processed\n",
      "Part 2, Stock 7 out of 27 processed\n",
      "Part 2, Stock 8 out of 27 processed\n",
      "Part 2, Stock 9 out of 27 processed\n",
      "Part 2, Stock 10 out of 27 processed\n",
      "Part 2, Stock 11 out of 27 processed\n",
      "Part 2, Stock 12 out of 27 processed\n",
      "Part 2, Stock 13 out of 27 processed\n",
      "Part 2, Stock 14 out of 27 processed\n",
      "Part 2, Stock 15 out of 27 processed\n",
      "Part 2, Stock 16 out of 27 processed\n",
      "Part 2, Stock 17 out of 27 processed\n",
      "Part 2, Stock 18 out of 27 processed\n",
      "Part 2, Stock 19 out of 27 processed\n",
      "Part 2, Stock 20 out of 27 processed\n",
      "Part 2, Stock 21 out of 27 processed\n",
      "Part 2, Stock 22 out of 27 processed\n"
     ]
    },
    {
     "name": "stderr",
     "output_type": "stream",
     "text": [
      "/home/ec2-user/anaconda3/envs/amazonei_mxnet_p36/lib/python3.6/site-packages/ipykernel/__main__.py:21: RuntimeWarning: invalid value encountered in double_scalars\n"
     ]
    },
    {
     "name": "stdout",
     "output_type": "stream",
     "text": [
      "Part 2, Stock 23 out of 27 processed\n",
      "Part 2, Stock 24 out of 27 processed\n",
      "Part 2, Stock 25 out of 27 processed\n",
      "Part 2, Stock 26 out of 27 processed\n",
      "Part 2, Stock 27 out of 27 processed\n",
      "Finihed!\n"
     ]
    }
   ],
   "source": [
    "\n",
    "test = original_df.columns.values\n",
    "benchmark_df =  benchmark(original_df,20,5,test)"
   ]
  },
  {
   "cell_type": "code",
   "execution_count": 20,
   "metadata": {},
   "outputs": [],
   "source": [
    "def rmse (y_test, Y_pred):   \n",
    "    return (sum(((y_test.values - Y_pred[0])**2)/len(y_test)))**(1/2)\n",
    "def mad(y_test, Y_pred):\n",
    "    return ((sum(abs(y_test.values - Y_pred[0])))/len(Y_pred))\n",
    "    \n"
   ]
  },
  {
   "cell_type": "code",
   "execution_count": 22,
   "metadata": {},
   "outputs": [
    {
     "name": "stdout",
     "output_type": "stream",
     "text": [
      "RMSE = 46.43776229877243\n",
      "MAD = 13.946495918599306\n"
     ]
    }
   ],
   "source": [
    "print(\"RMSE = \" + str(rmse(benchmark_df.iloc[:,0], benchmark_df.iloc[:,1])))\n",
    "print(\"MAD = \" + str(mad(benchmark_df.iloc[:,0], benchmark_df.iloc[:,1])))\n"
   ]
  },
  {
   "cell_type": "code",
   "execution_count": 23,
   "metadata": {},
   "outputs": [
    {
     "name": "stdout",
     "output_type": "stream",
     "text": [
      "Part 1 Start\n",
      "Part 1, Stock 1 out of 27 processed\n",
      "Part 1, Stock 2 out of 27 processed\n",
      "Part 1, Stock 3 out of 27 processed\n",
      "Part 1, Stock 4 out of 27 processed\n",
      "Part 1, Stock 5 out of 27 processed\n",
      "Part 1, Stock 6 out of 27 processed\n",
      "Part 1, Stock 7 out of 27 processed\n",
      "Part 1, Stock 8 out of 27 processed\n",
      "Part 1, Stock 9 out of 27 processed\n",
      "Part 1, Stock 10 out of 27 processed\n",
      "Part 1, Stock 11 out of 27 processed\n",
      "Part 1, Stock 12 out of 27 processed\n",
      "Part 1, Stock 13 out of 27 processed\n",
      "Part 1, Stock 14 out of 27 processed\n",
      "Part 1, Stock 15 out of 27 processed\n",
      "Part 1, Stock 16 out of 27 processed\n",
      "Part 1, Stock 17 out of 27 processed\n",
      "Part 1, Stock 18 out of 27 processed\n",
      "Part 1, Stock 19 out of 27 processed\n",
      "Part 1, Stock 20 out of 27 processed\n",
      "Part 1, Stock 21 out of 27 processed\n",
      "Part 1, Stock 22 out of 27 processed\n",
      "Part 1, Stock 23 out of 27 processed\n",
      "Part 1, Stock 24 out of 27 processed\n",
      "Part 1, Stock 25 out of 27 processed\n",
      "Part 1, Stock 26 out of 27 processed\n",
      "Part 1, Stock 27 out of 27 processed\n",
      "Part 2 Start\n",
      "Part 2, Stock 1 out of 27 processed\n",
      "Part 2, Stock 2 out of 27 processed\n",
      "Part 2, Stock 3 out of 27 processed\n",
      "Part 2, Stock 4 out of 27 processed\n",
      "Part 2, Stock 5 out of 27 processed\n",
      "Part 2, Stock 6 out of 27 processed\n",
      "Part 2, Stock 7 out of 27 processed\n",
      "Part 2, Stock 8 out of 27 processed\n",
      "Part 2, Stock 9 out of 27 processed\n",
      "Part 2, Stock 10 out of 27 processed\n",
      "Part 2, Stock 11 out of 27 processed\n",
      "Part 2, Stock 12 out of 27 processed\n",
      "Part 2, Stock 13 out of 27 processed\n",
      "Part 2, Stock 14 out of 27 processed\n",
      "Part 2, Stock 15 out of 27 processed\n",
      "Part 2, Stock 16 out of 27 processed\n",
      "Part 2, Stock 17 out of 27 processed\n",
      "Part 2, Stock 18 out of 27 processed\n",
      "Part 2, Stock 19 out of 27 processed\n",
      "Part 2, Stock 20 out of 27 processed\n",
      "Part 2, Stock 21 out of 27 processed\n",
      "Part 2, Stock 22 out of 27 processed\n"
     ]
    },
    {
     "name": "stderr",
     "output_type": "stream",
     "text": [
      "/home/ec2-user/anaconda3/envs/amazonei_mxnet_p36/lib/python3.6/site-packages/ipykernel/__main__.py:20: RuntimeWarning: invalid value encountered in double_scalars\n"
     ]
    },
    {
     "name": "stdout",
     "output_type": "stream",
     "text": [
      "Part 2, Stock 23 out of 27 processed\n",
      "Part 2, Stock 24 out of 27 processed\n",
      "Part 2, Stock 25 out of 27 processed\n",
      "Part 2, Stock 26 out of 27 processed\n",
      "Part 2, Stock 27 out of 27 processed\n",
      "Finihed!\n"
     ]
    }
   ],
   "source": [
    "# part data\n",
    "#test = [\"santander\",\"caixabank\",\"colonial\"]\n",
    "#test = [\"santander\"]\n",
    "#All data\n",
    "test = original_df.columns.values\n",
    "final_df =  create_data(original_df,20,5,test)"
   ]
  },
  {
   "cell_type": "code",
   "execution_count": 24,
   "metadata": {},
   "outputs": [
    {
     "data": {
      "text/plain": [
       "62185"
      ]
     },
     "execution_count": 24,
     "metadata": {},
     "output_type": "execute_result"
    }
   ],
   "source": [
    "len(final_df)"
   ]
  },
  {
   "cell_type": "code",
   "execution_count": 25,
   "metadata": {},
   "outputs": [
    {
     "data": {
      "text/plain": [
       "24.38868899880395"
      ]
     },
     "execution_count": 25,
     "metadata": {},
     "output_type": "execute_result"
    }
   ],
   "source": [
    "np.mean(np.mean(np.abs(final_df)))"
   ]
  },
  {
   "cell_type": "code",
   "execution_count": 26,
   "metadata": {},
   "outputs": [],
   "source": [
    "from sklearn.model_selection import train_test_split\n",
    "final_df.reset_index(inplace=True,drop=True)"
   ]
  },
  {
   "cell_type": "code",
   "execution_count": 27,
   "metadata": {},
   "outputs": [
    {
     "data": {
      "text/html": [
       "<div>\n",
       "<style scoped>\n",
       "    .dataframe tbody tr th:only-of-type {\n",
       "        vertical-align: middle;\n",
       "    }\n",
       "\n",
       "    .dataframe tbody tr th {\n",
       "        vertical-align: top;\n",
       "    }\n",
       "\n",
       "    .dataframe thead th {\n",
       "        text-align: right;\n",
       "    }\n",
       "</style>\n",
       "<table border=\"1\" class=\"dataframe\">\n",
       "  <thead>\n",
       "    <tr style=\"text-align: right;\">\n",
       "      <th></th>\n",
       "      <th>0</th>\n",
       "      <th>1</th>\n",
       "      <th>2</th>\n",
       "      <th>3</th>\n",
       "      <th>4</th>\n",
       "      <th>5</th>\n",
       "      <th>6</th>\n",
       "      <th>7</th>\n",
       "      <th>8</th>\n",
       "      <th>9</th>\n",
       "      <th>...</th>\n",
       "      <th>11</th>\n",
       "      <th>12</th>\n",
       "      <th>13</th>\n",
       "      <th>14</th>\n",
       "      <th>15</th>\n",
       "      <th>16</th>\n",
       "      <th>17</th>\n",
       "      <th>18</th>\n",
       "      <th>19</th>\n",
       "      <th>20</th>\n",
       "    </tr>\n",
       "  </thead>\n",
       "  <tbody>\n",
       "    <tr>\n",
       "      <th>0</th>\n",
       "      <td>34.511554</td>\n",
       "      <td>-46.099814</td>\n",
       "      <td>20.333591</td>\n",
       "      <td>-43.895445</td>\n",
       "      <td>89.416866</td>\n",
       "      <td>-104.322617</td>\n",
       "      <td>126.602994</td>\n",
       "      <td>-79.389081</td>\n",
       "      <td>-83.569336</td>\n",
       "      <td>74.823029</td>\n",
       "      <td>...</td>\n",
       "      <td>-180.027493</td>\n",
       "      <td>-49.281809</td>\n",
       "      <td>73.360614</td>\n",
       "      <td>60.290187</td>\n",
       "      <td>-3.290055</td>\n",
       "      <td>29.367861</td>\n",
       "      <td>130.293669</td>\n",
       "      <td>17.770157</td>\n",
       "      <td>-44.804031</td>\n",
       "      <td>73.985933</td>\n",
       "    </tr>\n",
       "    <tr>\n",
       "      <th>1</th>\n",
       "      <td>32.666084</td>\n",
       "      <td>20.333591</td>\n",
       "      <td>-43.895445</td>\n",
       "      <td>89.416866</td>\n",
       "      <td>-104.322617</td>\n",
       "      <td>126.602994</td>\n",
       "      <td>-79.389081</td>\n",
       "      <td>-83.569336</td>\n",
       "      <td>74.823029</td>\n",
       "      <td>-90.220344</td>\n",
       "      <td>...</td>\n",
       "      <td>-49.281809</td>\n",
       "      <td>73.360614</td>\n",
       "      <td>60.290187</td>\n",
       "      <td>-3.290055</td>\n",
       "      <td>29.367861</td>\n",
       "      <td>130.293669</td>\n",
       "      <td>17.770157</td>\n",
       "      <td>-44.804031</td>\n",
       "      <td>73.985933</td>\n",
       "      <td>-2.894168</td>\n",
       "    </tr>\n",
       "    <tr>\n",
       "      <th>2</th>\n",
       "      <td>34.875995</td>\n",
       "      <td>-43.895445</td>\n",
       "      <td>89.416866</td>\n",
       "      <td>-104.322617</td>\n",
       "      <td>126.602994</td>\n",
       "      <td>-79.389081</td>\n",
       "      <td>-83.569336</td>\n",
       "      <td>74.823029</td>\n",
       "      <td>-90.220344</td>\n",
       "      <td>-180.027493</td>\n",
       "      <td>...</td>\n",
       "      <td>73.360614</td>\n",
       "      <td>60.290187</td>\n",
       "      <td>-3.290055</td>\n",
       "      <td>29.367861</td>\n",
       "      <td>130.293669</td>\n",
       "      <td>17.770157</td>\n",
       "      <td>-44.804031</td>\n",
       "      <td>73.985933</td>\n",
       "      <td>-2.894168</td>\n",
       "      <td>-26.287734</td>\n",
       "    </tr>\n",
       "    <tr>\n",
       "      <th>3</th>\n",
       "      <td>35.901240</td>\n",
       "      <td>89.416866</td>\n",
       "      <td>-104.322617</td>\n",
       "      <td>126.602994</td>\n",
       "      <td>-79.389081</td>\n",
       "      <td>-83.569336</td>\n",
       "      <td>74.823029</td>\n",
       "      <td>-90.220344</td>\n",
       "      <td>-180.027493</td>\n",
       "      <td>-49.281809</td>\n",
       "      <td>...</td>\n",
       "      <td>60.290187</td>\n",
       "      <td>-3.290055</td>\n",
       "      <td>29.367861</td>\n",
       "      <td>130.293669</td>\n",
       "      <td>17.770157</td>\n",
       "      <td>-44.804031</td>\n",
       "      <td>73.985933</td>\n",
       "      <td>-2.894168</td>\n",
       "      <td>-26.287734</td>\n",
       "      <td>-5.901311</td>\n",
       "    </tr>\n",
       "    <tr>\n",
       "      <th>4</th>\n",
       "      <td>35.767119</td>\n",
       "      <td>-104.322617</td>\n",
       "      <td>126.602994</td>\n",
       "      <td>-79.389081</td>\n",
       "      <td>-83.569336</td>\n",
       "      <td>74.823029</td>\n",
       "      <td>-90.220344</td>\n",
       "      <td>-180.027493</td>\n",
       "      <td>-49.281809</td>\n",
       "      <td>73.360614</td>\n",
       "      <td>...</td>\n",
       "      <td>-3.290055</td>\n",
       "      <td>29.367861</td>\n",
       "      <td>130.293669</td>\n",
       "      <td>17.770157</td>\n",
       "      <td>-44.804031</td>\n",
       "      <td>73.985933</td>\n",
       "      <td>-2.894168</td>\n",
       "      <td>-26.287734</td>\n",
       "      <td>-5.901311</td>\n",
       "      <td>2.953398</td>\n",
       "    </tr>\n",
       "  </tbody>\n",
       "</table>\n",
       "<p>5 rows × 21 columns</p>\n",
       "</div>"
      ],
      "text/plain": [
       "          0           1           2           3           4           5   \\\n",
       "0  34.511554  -46.099814   20.333591  -43.895445   89.416866 -104.322617   \n",
       "1  32.666084   20.333591  -43.895445   89.416866 -104.322617  126.602994   \n",
       "2  34.875995  -43.895445   89.416866 -104.322617  126.602994  -79.389081   \n",
       "3  35.901240   89.416866 -104.322617  126.602994  -79.389081  -83.569336   \n",
       "4  35.767119 -104.322617  126.602994  -79.389081  -83.569336   74.823029   \n",
       "\n",
       "           6           7           8           9   ...          11         12  \\\n",
       "0  126.602994  -79.389081  -83.569336   74.823029  ... -180.027493 -49.281809   \n",
       "1  -79.389081  -83.569336   74.823029  -90.220344  ...  -49.281809  73.360614   \n",
       "2  -83.569336   74.823029  -90.220344 -180.027493  ...   73.360614  60.290187   \n",
       "3   74.823029  -90.220344 -180.027493  -49.281809  ...   60.290187  -3.290055   \n",
       "4  -90.220344 -180.027493  -49.281809   73.360614  ...   -3.290055  29.367861   \n",
       "\n",
       "           13          14          15          16          17         18  \\\n",
       "0   73.360614   60.290187   -3.290055   29.367861  130.293669  17.770157   \n",
       "1   60.290187   -3.290055   29.367861  130.293669   17.770157 -44.804031   \n",
       "2   -3.290055   29.367861  130.293669   17.770157  -44.804031  73.985933   \n",
       "3   29.367861  130.293669   17.770157  -44.804031   73.985933  -2.894168   \n",
       "4  130.293669   17.770157  -44.804031   73.985933   -2.894168 -26.287734   \n",
       "\n",
       "          19         20  \n",
       "0 -44.804031  73.985933  \n",
       "1  73.985933  -2.894168  \n",
       "2  -2.894168 -26.287734  \n",
       "3 -26.287734  -5.901311  \n",
       "4  -5.901311   2.953398  \n",
       "\n",
       "[5 rows x 21 columns]"
      ]
     },
     "execution_count": 27,
     "metadata": {},
     "output_type": "execute_result"
    }
   ],
   "source": [
    "final_df.head()"
   ]
  },
  {
   "cell_type": "raw",
   "metadata": {},
   "source": [
    "def drop_0s(df):\n",
    "        col_num = df.shape[1]\n",
    "        for i in range(1,col_num):\n",
    "            df = df.drop(df[df[i] == 0].index)\n",
    "        return df\n"
   ]
  },
  {
   "cell_type": "raw",
   "metadata": {},
   "source": [
    "no0df = drop_0s(final_df)"
   ]
  },
  {
   "cell_type": "markdown",
   "metadata": {},
   "source": [
    "# Splitting data into train/validation/test sets"
   ]
  },
  {
   "cell_type": "code",
   "execution_count": 28,
   "metadata": {},
   "outputs": [],
   "source": [
    "def split_data_stocks(df):\n",
    "    return df.iloc[:,1:], df[0]"
   ]
  },
  {
   "cell_type": "code",
   "execution_count": 29,
   "metadata": {},
   "outputs": [],
   "source": [
    "X_train, X_test, y_train, y_test = train_test_split(final_df.iloc[:,1:], final_df[0], test_size=0.3, random_state=42)\n",
    "X_train, X_val, Y_train, Y_val = train_test_split(X_train, y_train, test_size=0.3)"
   ]
  },
  {
   "cell_type": "markdown",
   "metadata": {},
   "source": [
    "# Uplad S3"
   ]
  },
  {
   "cell_type": "code",
   "execution_count": 30,
   "metadata": {},
   "outputs": [],
   "source": [
    "import sagemaker\n",
    "import os\n",
    "from sagemaker import get_execution_role\n",
    "from sagemaker.amazon.amazon_estimator import get_image_uri\n",
    "\n",
    "session = sagemaker.Session()\n",
    "role = get_execution_role()"
   ]
  },
  {
   "cell_type": "code",
   "execution_count": 31,
   "metadata": {},
   "outputs": [],
   "source": [
    "# This is our local data directory. We need to make sure that it exists.\n",
    "data_dir = '../data_processed/stocks'\n",
    "if not os.path.exists(data_dir):\n",
    "    os.makedirs(data_dir)"
   ]
  },
  {
   "cell_type": "code",
   "execution_count": 32,
   "metadata": {},
   "outputs": [],
   "source": [
    "X_test.to_csv(os.path.join(data_dir, 'test.csv'), header=False, index=False)\n",
    "\n",
    "pd.concat([Y_val, X_val], axis=1).to_csv(os.path.join(data_dir, 'validation.csv'), header=False, index=False)\n",
    "pd.concat([y_train, X_train], axis=1).to_csv(os.path.join(data_dir, 'train.csv'), header=False, index=False)"
   ]
  },
  {
   "cell_type": "code",
   "execution_count": 33,
   "metadata": {},
   "outputs": [],
   "source": [
    "prefix = 'mlfinal'\n",
    "\n",
    "val_location = session.upload_data(os.path.join(data_dir, 'validation.csv'), key_prefix=prefix)\n",
    "test_location = session.upload_data(os.path.join(data_dir, 'test.csv'), key_prefix=prefix)\n",
    "train_location = session.upload_data(os.path.join(data_dir, 'train.csv'), key_prefix=prefix)"
   ]
  },
  {
   "cell_type": "markdown",
   "metadata": {},
   "source": [
    "# XGBoost Reg:Linear"
   ]
  },
  {
   "cell_type": "code",
   "execution_count": 34,
   "metadata": {},
   "outputs": [],
   "source": [
    "# As stated above, we use this utility method to construct the image name for the training container.\n",
    "container = get_image_uri(session.boto_region_name, 'xgboost','0.90-1')\n",
    "\n",
    "# Now that we know which container to use, we can construct the estimator object.\n",
    "xgb = sagemaker.estimator.Estimator(container, # The name of the training container\n",
    "                                    role,      # The IAM role to use (our current role in this case)\n",
    "                                    train_instance_count=1, # The number of instances to use for training\n",
    "                                    train_instance_type='ml.m4.xlarge', # The type of instance ot use for training\n",
    "                                    output_path='s3://{}/{}/output'.format(session.default_bucket(), prefix),\n",
    "                                                                        # Where to save the output (the model artifacts)\n",
    "                                    sagemaker_session=session) # The current SageMaker session"
   ]
  },
  {
   "cell_type": "code",
   "execution_count": 35,
   "metadata": {},
   "outputs": [],
   "source": [
    "xgb.set_hyperparameters(max_depth=3,\n",
    "                        eta=0.06166,\n",
    "                        gamma=5.0833,\n",
    "                        min_child_weight=3,\n",
    "                        subsample=0.8855,\n",
    "                        objective='reg:linear',\n",
    "                        early_stopping_rounds=10,\n",
    "                        num_round=550)"
   ]
  },
  {
   "cell_type": "code",
   "execution_count": 37,
   "metadata": {},
   "outputs": [
    {
     "name": "stdout",
     "output_type": "stream",
     "text": [
      "2020-02-02 17:14:24 Starting - Starting the training job...\n",
      "2020-02-02 17:14:27 Starting - Launching requested ML instances......\n",
      "2020-02-02 17:15:30 Starting - Preparing the instances for training......\n",
      "2020-02-02 17:16:34 Downloading - Downloading input data...\n",
      "2020-02-02 17:17:20 Training - Downloading the training image...\n",
      "2020-02-02 17:17:51 Uploading - Uploading generated training model\u001b[34mINFO:sagemaker-containers:Imported framework sagemaker_xgboost_container.training\u001b[0m\n",
      "\u001b[34mINFO:sagemaker-containers:Failed to parse hyperparameter objective value reg:linear to Json.\u001b[0m\n",
      "\u001b[34mReturning the value itself\u001b[0m\n",
      "\u001b[34mINFO:sagemaker-containers:No GPUs detected (normal if no gpus installed)\u001b[0m\n",
      "\u001b[34mINFO:sagemaker_xgboost_container.training:Running XGBoost Sagemaker in algorithm mode\u001b[0m\n",
      "\u001b[34mINFO:root:Determined delimiter of CSV input is ','\u001b[0m\n",
      "\u001b[34mINFO:root:Determined delimiter of CSV input is ','\u001b[0m\n",
      "\u001b[34mINFO:root:Determined delimiter of CSV input is ','\u001b[0m\n",
      "\u001b[34m[17:17:42] 43529x20 matrix with 857521 entries loaded from /opt/ml/input/data/train?format=csv&label_column=0&delimiter=,\u001b[0m\n",
      "\u001b[34mINFO:root:Determined delimiter of CSV input is ','\u001b[0m\n",
      "\u001b[34m[17:17:42] 13059x20 matrix with 261180 entries loaded from /opt/ml/input/data/validation?format=csv&label_column=0&delimiter=,\u001b[0m\n",
      "\u001b[34mINFO:root:Single node training.\u001b[0m\n",
      "\u001b[34mINFO:root:Train matrix has 43529 rows\u001b[0m\n",
      "\u001b[34mINFO:root:Validation matrix has 13059 rows\u001b[0m\n",
      "\u001b[34m[17:17:42] WARNING: /workspace/src/objective/regression_obj.cu:152: reg:linear is now deprecated in favor of reg:squarederror.\u001b[0m\n",
      "\u001b[34m[0]#011train-rmse:41.2996#011validation-rmse:38.5674\u001b[0m\n",
      "\u001b[34m[1]#011train-rmse:40.1381#011validation-rmse:37.3837\u001b[0m\n",
      "\u001b[34m[2]#011train-rmse:39.0833#011validation-rmse:36.3226\u001b[0m\n",
      "\u001b[34m[3]#011train-rmse:38.1225#011validation-rmse:35.3402\u001b[0m\n",
      "\u001b[34m[4]#011train-rmse:37.2515#011validation-rmse:34.4643\u001b[0m\n",
      "\u001b[34m[5]#011train-rmse:36.4616#011validation-rmse:33.6657\u001b[0m\n",
      "\u001b[34m[6]#011train-rmse:35.7419#011validation-rmse:32.944\u001b[0m\n",
      "\u001b[34m[7]#011train-rmse:35.1167#011validation-rmse:32.3009\u001b[0m\n",
      "\u001b[34m[8]#011train-rmse:34.5414#011validation-rmse:31.7304\u001b[0m\n",
      "\u001b[34m[9]#011train-rmse:34.0142#011validation-rmse:31.2381\u001b[0m\n",
      "\u001b[34m[10]#011train-rmse:33.5443#011validation-rmse:30.796\u001b[0m\n",
      "\u001b[34m[11]#011train-rmse:33.1087#011validation-rmse:30.3941\u001b[0m\n",
      "\u001b[34m[12]#011train-rmse:32.7206#011validation-rmse:30.0256\u001b[0m\n",
      "\u001b[34m[13]#011train-rmse:32.3661#011validation-rmse:29.6972\u001b[0m\n",
      "\u001b[34m[14]#011train-rmse:32.0468#011validation-rmse:29.3869\u001b[0m\n",
      "\u001b[34m[15]#011train-rmse:31.7386#011validation-rmse:29.1195\u001b[0m\n",
      "\u001b[34m[16]#011train-rmse:31.469#011validation-rmse:28.8986\u001b[0m\n",
      "\u001b[34m[17]#011train-rmse:31.2303#011validation-rmse:28.6808\u001b[0m\n",
      "\u001b[34m[18]#011train-rmse:31.0035#011validation-rmse:28.4731\u001b[0m\n",
      "\u001b[34m[19]#011train-rmse:30.809#011validation-rmse:28.3209\u001b[0m\n",
      "\u001b[34m[20]#011train-rmse:30.6373#011validation-rmse:28.1696\u001b[0m\n",
      "\u001b[34m[21]#011train-rmse:30.4829#011validation-rmse:28.0453\u001b[0m\n",
      "\u001b[34m[22]#011train-rmse:30.3192#011validation-rmse:27.9357\u001b[0m\n",
      "\u001b[34m[23]#011train-rmse:30.1789#011validation-rmse:27.8328\u001b[0m\n",
      "\u001b[34m[24]#011train-rmse:30.0491#011validation-rmse:27.7458\u001b[0m\n",
      "\u001b[34m[25]#011train-rmse:29.9218#011validation-rmse:27.6572\u001b[0m\n",
      "\u001b[34m[26]#011train-rmse:29.8071#011validation-rmse:27.5652\u001b[0m\n",
      "\u001b[34m[27]#011train-rmse:29.7169#011validation-rmse:27.5091\u001b[0m\n",
      "\u001b[34m[28]#011train-rmse:29.6315#011validation-rmse:27.4422\u001b[0m\n",
      "\u001b[34m[29]#011train-rmse:29.5397#011validation-rmse:27.3954\u001b[0m\n",
      "\u001b[34m[30]#011train-rmse:29.4566#011validation-rmse:27.3376\u001b[0m\n",
      "\u001b[34m[31]#011train-rmse:29.3695#011validation-rmse:27.2901\u001b[0m\n",
      "\u001b[34m[32]#011train-rmse:29.2763#011validation-rmse:27.2609\u001b[0m\n",
      "\u001b[34m[33]#011train-rmse:29.2163#011validation-rmse:27.2354\u001b[0m\n",
      "\u001b[34m[34]#011train-rmse:29.1453#011validation-rmse:27.2017\u001b[0m\n",
      "\u001b[34m[35]#011train-rmse:29.0831#011validation-rmse:27.1644\u001b[0m\n",
      "\u001b[34m[36]#011train-rmse:29.0292#011validation-rmse:27.1438\u001b[0m\n",
      "\u001b[34m[37]#011train-rmse:28.9822#011validation-rmse:27.1196\u001b[0m\n",
      "\u001b[34m[38]#011train-rmse:28.9308#011validation-rmse:27.1\u001b[0m\n",
      "\u001b[34m[39]#011train-rmse:28.8768#011validation-rmse:27.0707\u001b[0m\n",
      "\u001b[34m[40]#011train-rmse:28.8359#011validation-rmse:27.0585\u001b[0m\n",
      "\u001b[34m[41]#011train-rmse:28.7878#011validation-rmse:27.0493\u001b[0m\n",
      "\u001b[34m[42]#011train-rmse:28.748#011validation-rmse:27.0275\u001b[0m\n",
      "\u001b[34m[43]#011train-rmse:28.7039#011validation-rmse:27.0002\u001b[0m\n",
      "\u001b[34m[44]#011train-rmse:28.6619#011validation-rmse:26.9901\u001b[0m\n",
      "\u001b[34m[45]#011train-rmse:28.6286#011validation-rmse:26.9762\u001b[0m\n",
      "\u001b[34m[46]#011train-rmse:28.5743#011validation-rmse:26.9711\u001b[0m\n",
      "\u001b[34m[47]#011train-rmse:28.5384#011validation-rmse:26.9514\u001b[0m\n",
      "\u001b[34m[48]#011train-rmse:28.502#011validation-rmse:26.9427\u001b[0m\n",
      "\u001b[34m[49]#011train-rmse:28.4691#011validation-rmse:26.926\u001b[0m\n",
      "\u001b[34m[50]#011train-rmse:28.4376#011validation-rmse:26.9127\u001b[0m\n",
      "\u001b[34m[51]#011train-rmse:28.4102#011validation-rmse:26.8956\u001b[0m\n",
      "\u001b[34m[52]#011train-rmse:28.3773#011validation-rmse:26.8944\u001b[0m\n",
      "\u001b[34m[53]#011train-rmse:28.3476#011validation-rmse:26.8846\u001b[0m\n",
      "\u001b[34m[54]#011train-rmse:28.3182#011validation-rmse:26.8763\u001b[0m\n",
      "\u001b[34m[55]#011train-rmse:28.2943#011validation-rmse:26.8631\u001b[0m\n",
      "\u001b[34m[56]#011train-rmse:28.2636#011validation-rmse:26.8673\u001b[0m\n",
      "\u001b[34m[57]#011train-rmse:28.2372#011validation-rmse:26.8639\u001b[0m\n",
      "\u001b[34m[58]#011train-rmse:28.2144#011validation-rmse:26.8541\u001b[0m\n",
      "\u001b[34m[59]#011train-rmse:28.1815#011validation-rmse:26.8409\u001b[0m\n",
      "\u001b[34m[60]#011train-rmse:28.1529#011validation-rmse:26.839\u001b[0m\n",
      "\u001b[34m[61]#011train-rmse:28.1223#011validation-rmse:26.8273\u001b[0m\n",
      "\u001b[34m[62]#011train-rmse:28.1036#011validation-rmse:26.8247\u001b[0m\n",
      "\u001b[34m[63]#011train-rmse:28.072#011validation-rmse:26.828\u001b[0m\n",
      "\u001b[34m[64]#011train-rmse:28.0473#011validation-rmse:26.817\u001b[0m\n",
      "\u001b[34m[65]#011train-rmse:28.001#011validation-rmse:26.8141\u001b[0m\n",
      "\u001b[34m[66]#011train-rmse:27.9647#011validation-rmse:26.8227\u001b[0m\n",
      "\u001b[34m[67]#011train-rmse:27.9362#011validation-rmse:26.8165\u001b[0m\n",
      "\u001b[34m[68]#011train-rmse:27.9104#011validation-rmse:26.8104\u001b[0m\n",
      "\u001b[34m[69]#011train-rmse:27.889#011validation-rmse:26.801\u001b[0m\n",
      "\u001b[34m[70]#011train-rmse:27.867#011validation-rmse:26.7916\u001b[0m\n",
      "\u001b[34m[71]#011train-rmse:27.8353#011validation-rmse:26.7834\u001b[0m\n",
      "\u001b[34m[72]#011train-rmse:27.8161#011validation-rmse:26.7777\u001b[0m\n",
      "\u001b[34m[73]#011train-rmse:27.8032#011validation-rmse:26.7781\u001b[0m\n",
      "\u001b[34m[74]#011train-rmse:27.784#011validation-rmse:26.7715\u001b[0m\n",
      "\u001b[34m[75]#011train-rmse:27.76#011validation-rmse:26.7722\u001b[0m\n",
      "\u001b[34m[76]#011train-rmse:27.7486#011validation-rmse:26.7722\u001b[0m\n",
      "\u001b[34m[77]#011train-rmse:27.7239#011validation-rmse:26.7595\u001b[0m\n",
      "\u001b[34m[78]#011train-rmse:27.7122#011validation-rmse:26.7519\u001b[0m\n",
      "\u001b[34m[79]#011train-rmse:27.6907#011validation-rmse:26.749\u001b[0m\n",
      "\u001b[34m[80]#011train-rmse:27.6756#011validation-rmse:26.7432\u001b[0m\n",
      "\u001b[34m[81]#011train-rmse:27.6537#011validation-rmse:26.7437\u001b[0m\n",
      "\u001b[34m[82]#011train-rmse:27.646#011validation-rmse:26.7365\u001b[0m\n",
      "\u001b[34m[83]#011train-rmse:27.6231#011validation-rmse:26.7388\u001b[0m\n",
      "\u001b[34m[84]#011train-rmse:27.6123#011validation-rmse:26.7371\u001b[0m\n",
      "\u001b[34m[85]#011train-rmse:27.596#011validation-rmse:26.7349\u001b[0m\n",
      "\u001b[34m[86]#011train-rmse:27.5692#011validation-rmse:26.7365\u001b[0m\n",
      "\u001b[34m[87]#011train-rmse:27.5597#011validation-rmse:26.735\u001b[0m\n",
      "\u001b[34m[88]#011train-rmse:27.5366#011validation-rmse:26.7351\u001b[0m\n",
      "\u001b[34m[89]#011train-rmse:27.5297#011validation-rmse:26.7294\u001b[0m\n",
      "\u001b[34m[90]#011train-rmse:27.5206#011validation-rmse:26.7302\u001b[0m\n",
      "\u001b[34m[91]#011train-rmse:27.4966#011validation-rmse:26.7469\u001b[0m\n",
      "\u001b[34m[92]#011train-rmse:27.4786#011validation-rmse:26.75\u001b[0m\n",
      "\u001b[34m[93]#011train-rmse:27.4598#011validation-rmse:26.7503\u001b[0m\n",
      "\u001b[34m[94]#011train-rmse:27.4537#011validation-rmse:26.7459\u001b[0m\n",
      "\u001b[34m[95]#011train-rmse:27.4478#011validation-rmse:26.7402\u001b[0m\n",
      "\u001b[34m[96]#011train-rmse:27.4344#011validation-rmse:26.7399\u001b[0m\n",
      "\u001b[34m[97]#011train-rmse:27.4193#011validation-rmse:26.7453\u001b[0m\n",
      "\u001b[34m[98]#011train-rmse:27.396#011validation-rmse:26.7451\u001b[0m\n",
      "\u001b[34m[99]#011train-rmse:27.3821#011validation-rmse:26.7445\u001b[0m\n",
      "\n",
      "2020-02-02 17:17:58 Completed - Training job completed\n",
      "Training seconds: 84\n",
      "Billable seconds: 84\n"
     ]
    }
   ],
   "source": [
    "s3_input_train = sagemaker.s3_input(s3_data=train_location, content_type='csv')\n",
    "s3_input_validation = sagemaker.s3_input(s3_data=val_location, content_type='csv')\n",
    "\n",
    "xgb.fit({'train': s3_input_train, 'validation': s3_input_validation})\n",
    "#xgb.fit({'train': s3_input_train})"
   ]
  },
  {
   "cell_type": "code",
   "execution_count": 38,
   "metadata": {},
   "outputs": [],
   "source": [
    "xgb_transformer = xgb.transformer(instance_count = 1, instance_type = 'ml.m4.xlarge')"
   ]
  },
  {
   "cell_type": "code",
   "execution_count": 39,
   "metadata": {},
   "outputs": [],
   "source": [
    "xgb_transformer.transform(test_location, content_type='text/csv', split_type='Line')"
   ]
  },
  {
   "cell_type": "code",
   "execution_count": 40,
   "metadata": {},
   "outputs": [
    {
     "name": "stdout",
     "output_type": "stream",
     "text": [
      ".........................\u001b[34m[2020-02-02 17:22:31 +0000] [15] [INFO] Starting gunicorn 19.10.0\u001b[0m\n",
      "\u001b[34m[2020-02-02 17:22:31 +0000] [15] [INFO] Listening at: unix:/tmp/gunicorn.sock (15)\u001b[0m\n",
      "\u001b[34m[2020-02-02 17:22:31 +0000] [15] [INFO] Using worker: gevent\u001b[0m\n",
      "\u001b[34m[2020-02-02 17:22:31 +0000] [22] [INFO] Booting worker with pid: 22\u001b[0m\n",
      "\u001b[34m[2020-02-02 17:22:32 +0000] [23] [INFO] Booting worker with pid: 23\u001b[0m\n",
      "\u001b[34m[2020-02-02 17:22:32 +0000] [27] [INFO] Booting worker with pid: 27\u001b[0m\n",
      "\u001b[34m[2020-02-02 17:22:32 +0000] [28] [INFO] Booting worker with pid: 28\u001b[0m\n",
      "\u001b[34m[2020-02-02:17:22:50:INFO] No GPUs detected (normal if no gpus installed)\u001b[0m\n",
      "\u001b[34m169.254.255.130 - - [02/Feb/2020:17:22:50 +0000] \"GET /ping HTTP/1.1\" 200 0 \"-\" \"Go-http-client/1.1\"\u001b[0m\n",
      "\u001b[34m169.254.255.130 - - [02/Feb/2020:17:22:50 +0000] \"GET /execution-parameters HTTP/1.1\" 200 84 \"-\" \"Go-http-client/1.1\"\u001b[0m\n",
      "\u001b[34m[2020-02-02:17:22:51:INFO] No GPUs detected (normal if no gpus installed)\u001b[0m\n",
      "\u001b[34m[2020-02-02:17:22:51:INFO] Determined delimiter of CSV input is ','\u001b[0m\n",
      "\u001b[34m[2020-02-02:17:22:51:INFO] Determined delimiter of CSV input is ','\u001b[0m\n",
      "\u001b[34m[17:22:51] WARNING: /workspace/src/objective/regression_obj.cu:152: reg:linear is now deprecated in favor of reg:squarederror.\u001b[0m\n",
      "\u001b[34m169.254.255.130 - - [02/Feb/2020:17:22:51 +0000] \"POST /invocations HTTP/1.1\" 200 34154 \"-\" \"Go-http-client/1.1\"\u001b[0m\n",
      "\u001b[34m[17:22:52] WARNING: /workspace/src/objective/regression_obj.cu:152: reg:linear is now deprecated in favor of reg:squarederror.\u001b[0m\n",
      "\u001b[34m169.254.255.130 - - [02/Feb/2020:17:22:52 +0000] \"POST /invocations HTTP/1.1\" 200 311259 \"-\" \"Go-http-client/1.1\"\u001b[0m\n",
      "\n",
      "\u001b[32m2020-02-02T17:22:51.000:[sagemaker logs]: MaxConcurrentTransforms=4, MaxPayloadInMB=6, BatchStrategy=MULTI_RECORD\u001b[0m\n"
     ]
    }
   ],
   "source": [
    "xgb_transformer.wait()"
   ]
  },
  {
   "cell_type": "code",
   "execution_count": 41,
   "metadata": {},
   "outputs": [
    {
     "name": "stdout",
     "output_type": "stream",
     "text": [
      "download: s3://sagemaker-us-east-1-930398515265/sagemaker-xgboost-2020-02-02-17-18-36-826/test.csv.out to ../data_processed/stocks/test.csv.out\n"
     ]
    }
   ],
   "source": [
    "!aws s3 cp --recursive $xgb_transformer.output_path $data_dir"
   ]
  },
  {
   "cell_type": "code",
   "execution_count": 43,
   "metadata": {},
   "outputs": [],
   "source": [
    "Y_pred = pd.read_csv(os.path.join(data_dir, 'test.csv.out'), header=None)"
   ]
  },
  {
   "cell_type": "code",
   "execution_count": 44,
   "metadata": {},
   "outputs": [
    {
     "data": {
      "text/plain": [
       "Text(0.5, 1.0, 'Vol vs Predicted Vol')"
      ]
     },
     "execution_count": 44,
     "metadata": {},
     "output_type": "execute_result"
    },
    {
     "data": {
      "image/png": "[encoded data removed]",
      "text/plain": [
       "<Figure size 432x288 with 1 Axes>"
      ]
     },
     "metadata": {},
     "output_type": "display_data"
    }
   ],
   "source": [
    "plt.scatter(y_test, Y_pred)\n",
    "plt.xlabel(\"Vol\")\n",
    "plt.ylabel(\"Predicted Vol\")\n",
    "plt.title(\"Vol vs Predicted Vol\")"
   ]
  },
  {
   "cell_type": "code",
   "execution_count": 45,
   "metadata": {},
   "outputs": [],
   "source": [
    "def rmse (y_test, Y_pred):   \n",
    "    return (sum(((y_test.values - Y_pred[0])**2)/len(y_test)))**(1/2)\n",
    "def mad(y_test, Y_pred):\n",
    "    return ((sum(abs(y_test.values - Y_pred[0])))/len(Y_pred))\n",
    "    "
   ]
  },
  {
   "cell_type": "code",
   "execution_count": 48,
   "metadata": {},
   "outputs": [],
   "source": [
    "from scipy.stats import kde\n"
   ]
  },
  {
   "cell_type": "code",
   "execution_count": 49,
   "metadata": {},
   "outputs": [
    {
     "ename": "NameError",
     "evalue": "name 'x' is not defined",
     "output_type": "error",
     "traceback": [
      "\u001b[0;31m---------------------------------------------------------------------------\u001b[0m",
      "\u001b[0;31mNameError\u001b[0m                                 Traceback (most recent call last)",
      "\u001b[0;32m<ipython-input-49-40af3eecbc9e>\u001b[0m in \u001b[0;36m<module>\u001b[0;34m()\u001b[0m\n\u001b[1;32m      1\u001b[0m \u001b[0mnbins\u001b[0m\u001b[0;34m=\u001b[0m\u001b[0;36m300\u001b[0m\u001b[0;34m\u001b[0m\u001b[0m\n\u001b[1;32m      2\u001b[0m \u001b[0;31m#y_test, Y_pred\u001b[0m\u001b[0;34m\u001b[0m\u001b[0;34m\u001b[0m\u001b[0m\n\u001b[0;32m----> 3\u001b[0;31m \u001b[0mk\u001b[0m \u001b[0;34m=\u001b[0m \u001b[0mkde\u001b[0m\u001b[0;34m.\u001b[0m\u001b[0mgaussian_kde\u001b[0m\u001b[0;34m(\u001b[0m\u001b[0;34m[\u001b[0m\u001b[0mx\u001b[0m\u001b[0;34m,\u001b[0m\u001b[0my\u001b[0m\u001b[0;34m]\u001b[0m\u001b[0;34m)\u001b[0m\u001b[0;34m\u001b[0m\u001b[0m\n\u001b[0m\u001b[1;32m      4\u001b[0m \u001b[0mxi\u001b[0m\u001b[0;34m,\u001b[0m \u001b[0myi\u001b[0m \u001b[0;34m=\u001b[0m \u001b[0mnp\u001b[0m\u001b[0;34m.\u001b[0m\u001b[0mmgrid\u001b[0m\u001b[0;34m[\u001b[0m\u001b[0my_test\u001b[0m\u001b[0;34m.\u001b[0m\u001b[0mmin\u001b[0m\u001b[0;34m(\u001b[0m\u001b[0;34m)\u001b[0m\u001b[0;34m:\u001b[0m\u001b[0my_test\u001b[0m\u001b[0;34m.\u001b[0m\u001b[0mmax\u001b[0m\u001b[0;34m(\u001b[0m\u001b[0;34m)\u001b[0m\u001b[0;34m:\u001b[0m\u001b[0mnbins\u001b[0m\u001b[0;34m*\u001b[0m\u001b[0;36m1j\u001b[0m\u001b[0;34m,\u001b[0m \u001b[0mY_pred\u001b[0m\u001b[0;34m.\u001b[0m\u001b[0mmin\u001b[0m\u001b[0;34m(\u001b[0m\u001b[0;34m)\u001b[0m\u001b[0;34m:\u001b[0m\u001b[0mY_pred\u001b[0m\u001b[0;34m.\u001b[0m\u001b[0mmax\u001b[0m\u001b[0;34m(\u001b[0m\u001b[0;34m)\u001b[0m\u001b[0;34m:\u001b[0m\u001b[0mnbins\u001b[0m\u001b[0;34m*\u001b[0m\u001b[0;36m1j\u001b[0m\u001b[0;34m]\u001b[0m\u001b[0;34m\u001b[0m\u001b[0m\n\u001b[1;32m      5\u001b[0m \u001b[0mzi\u001b[0m \u001b[0;34m=\u001b[0m \u001b[0mk\u001b[0m\u001b[0;34m(\u001b[0m\u001b[0mnp\u001b[0m\u001b[0;34m.\u001b[0m\u001b[0mvstack\u001b[0m\u001b[0;34m(\u001b[0m\u001b[0;34m[\u001b[0m\u001b[0mxi\u001b[0m\u001b[0;34m.\u001b[0m\u001b[0mflatten\u001b[0m\u001b[0;34m(\u001b[0m\u001b[0;34m)\u001b[0m\u001b[0;34m,\u001b[0m \u001b[0myi\u001b[0m\u001b[0;34m.\u001b[0m\u001b[0mflatten\u001b[0m\u001b[0;34m(\u001b[0m\u001b[0;34m)\u001b[0m\u001b[0;34m]\u001b[0m\u001b[0;34m)\u001b[0m\u001b[0;34m)\u001b[0m\u001b[0;34m\u001b[0m\u001b[0m\n",
      "\u001b[0;31mNameError\u001b[0m: name 'x' is not defined"
     ]
    }
   ],
   "source": [
    "nbins=300\n",
    "#y_test, Y_pred\n",
    "k = kde.gaussian_kde([x,y])\n",
    "xi, yi = np.mgrid[y_test.min():y_test.max():nbins*1j, Y_pred.min():Y_pred.max():nbins*1j]\n",
    "zi = k(np.vstack([xi.flatten(), yi.flatten()]))\n",
    " # Make the plot\n",
    "plt.pcolormesh(xi, yi, zi.reshape(xi.shape))\n",
    "plt.show()\n",
    "# Change color palette\n",
    "plt.pcolormesh(xi, yi, zi.reshape(xi.shape), cmap=plt.cm.Greens_r)\n",
    "plt.show()\n",
    "\n"
   ]
  },
  {
   "cell_type": "code",
   "execution_count": null,
   "metadata": {},
   "outputs": [],
   "source": []
  },
  {
   "cell_type": "code",
   "execution_count": null,
   "metadata": {},
   "outputs": [],
   "source": []
  },
  {
   "cell_type": "code",
   "execution_count": 46,
   "metadata": {},
   "outputs": [
    {
     "name": "stdout",
     "output_type": "stream",
     "text": [
      "RMSE = 38.873235940730865\n",
      "MAD = 12.532685183483041\n"
     ]
    }
   ],
   "source": [
    "print(\"RMSE = \" + str(rmse(y_test, Y_pred)))\n",
    "print(\"MAD = \" + str(mad(y_test, Y_pred)))\n"
   ]
  },
  {
   "cell_type": "markdown",
   "metadata": {},
   "source": [
    "# XGBoost  Hyperparamteter tuning"
   ]
  },
  {
   "cell_type": "code",
   "execution_count": null,
   "metadata": {},
   "outputs": [],
   "source": [
    "# Now that we know which container to use, we can construct the estimator object.\n",
    "xgbt = sagemaker.estimator.Estimator(container, # The name of the training container\n",
    "                                    role,      # The IAM role to use (our current role in this case)\n",
    "                                    train_instance_count=1, # The number of instances to use for training\n",
    "                                    train_instance_type='ml.m4.4xlarge', # The type of instance ot use for training\n",
    "                                    output_path='s3://{}/{}/output'.format(session.default_bucket(), prefix),\n",
    "                                                                        # Where to save the output (the model artifacts)\n",
    "                                    sagemaker_session=session) # The current SageMaker session"
   ]
  },
  {
   "cell_type": "code",
   "execution_count": null,
   "metadata": {},
   "outputs": [],
   "source": [
    "xgbt.set_hyperparameters(max_depth=5,\n",
    "                        eta=0.2,\n",
    "                        gamma=4,\n",
    "                        min_child_weight=6,\n",
    "                        subsample=0.8,\n",
    "                        objective='reg:squarederror',\n",
    "                        early_stopping_rounds=10,\n",
    "                        num_round=450)"
   ]
  },
  {
   "cell_type": "code",
   "execution_count": null,
   "metadata": {},
   "outputs": [],
   "source": [
    "from sagemaker.tuner import IntegerParameter, ContinuousParameter, HyperparameterTuner\n",
    "\n",
    "xgb_hyperparameter_tuner = HyperparameterTuner(estimator = xgbt, # The estimator object to use as the basis for the training jobs.\n",
    "                                               objective_metric_name = 'validation:rmse', # The metric used to compare trained models.\n",
    "                                               objective_type = 'Minimize', # Whether we wish to minimize or maximize the metric.\n",
    "                                               max_jobs = 40, # The total number of models to train\n",
    "                                               max_parallel_jobs = 4, # The number of models to train in parallel\n",
    "                                               hyperparameter_ranges = {\n",
    "                                                    'max_depth': IntegerParameter(3, 12),\n",
    "                                                    'eta'      : ContinuousParameter(0.05, 0.5),\n",
    "                                                    'min_child_weight': IntegerParameter(2, 8),\n",
    "                                                    'subsample': ContinuousParameter(0.5, 0.9),\n",
    "                                                    'gamma': ContinuousParameter(0, 10),\n",
    "                                               })"
   ]
  },
  {
   "cell_type": "code",
   "execution_count": null,
   "metadata": {},
   "outputs": [],
   "source": [
    "s3_input_train = sagemaker.s3_input(s3_data=train_location, content_type='csv')\n",
    "s3_input_validation = sagemaker.s3_input(s3_data=val_location, content_type='csv')\n",
    "\n",
    "xgb_hyperparameter_tuner.fit({'train': s3_input_train, 'validation': s3_input_validation})\n",
    "#xgbt.fit({'train': s3_input_train})"
   ]
  },
  {
   "cell_type": "code",
   "execution_count": null,
   "metadata": {},
   "outputs": [],
   "source": [
    "xgb_hyperparameter_tuner.wait()"
   ]
  },
  {
   "cell_type": "code",
   "execution_count": null,
   "metadata": {},
   "outputs": [],
   "source": [
    "xgb_hyperparameter_tuner.best_training_job()"
   ]
  },
  {
   "cell_type": "code",
   "execution_count": null,
   "metadata": {},
   "outputs": [],
   "source": [
    "xgb_attached = sagemaker.estimator.Estimator.attach(xgb_hyperparameter_tuner.best_training_job())"
   ]
  },
  {
   "cell_type": "code",
   "execution_count": null,
   "metadata": {},
   "outputs": [],
   "source": []
  },
  {
   "cell_type": "code",
   "execution_count": null,
   "metadata": {},
   "outputs": [],
   "source": [
    "xgb_transformert = xgb_attached.transformer(instance_count = 1, instance_type = 'ml.m4.xlarge')"
   ]
  },
  {
   "cell_type": "code",
   "execution_count": null,
   "metadata": {},
   "outputs": [],
   "source": [
    "xgb_transformert.transform(test_location, content_type='text/csv', split_type='Line')"
   ]
  },
  {
   "cell_type": "code",
   "execution_count": null,
   "metadata": {},
   "outputs": [],
   "source": [
    "xgb_transformert.wait()"
   ]
  },
  {
   "cell_type": "code",
   "execution_count": null,
   "metadata": {},
   "outputs": [],
   "source": [
    "!aws s3 cp --recursive $xgb_transformert.output_path $data_dir"
   ]
  },
  {
   "cell_type": "code",
   "execution_count": null,
   "metadata": {},
   "outputs": [],
   "source": [
    "Y_pred = pd.read_csv(os.path.join(data_dir, 'test.csv.out'), header=None)"
   ]
  },
  {
   "cell_type": "code",
   "execution_count": null,
   "metadata": {},
   "outputs": [],
   "source": [
    "plt.scatter(y_test, Y_pred)\n",
    "plt.xlabel(\"Vol\")\n",
    "plt.ylabel(\"Predicted Vol\")\n",
    "plt.title(\"Vol vs Predicted Vol\")"
   ]
  },
  {
   "cell_type": "code",
   "execution_count": null,
   "metadata": {},
   "outputs": [],
   "source": [
    "print(\"RMSE = \" + str(rmse(y_test, Y_pred)))\n",
    "print(\"MAD = \" + str(mad(y_test, Y_pred)))\n"
   ]
  },
  {
   "cell_type": "markdown",
   "metadata": {},
   "source": [
    "# PyTorch"
   ]
  },
  {
   "cell_type": "code",
   "execution_count": null,
   "metadata": {},
   "outputs": [],
   "source": [
    "import pandas as pd\n",
    "import boto3\n",
    "import sagemaker"
   ]
  },
  {
   "cell_type": "code",
   "execution_count": null,
   "metadata": {},
   "outputs": [],
   "source": [
    "# session and role\n",
    "sagemaker_session = sagemaker.Session()\n",
    "role = sagemaker.get_execution_role()\n",
    "\n",
    "# create an S3 bucket\n",
    "bucket = sagemaker_session.default_bucket()"
   ]
  },
  {
   "cell_type": "code",
   "execution_count": null,
   "metadata": {},
   "outputs": [],
   "source": [
    "from sagemaker.pytorch import PyTorch\n",
    "# your import and estimator code, here\n",
    "\n",
    "output_path = 's3://{}/{}'.format(bucket, prefix)\n",
    "\n",
    "# instantiate a pytorch estimator\n",
    "estimator = PyTorch(entry_point='train.py',\n",
    "                    source_dir='source_pytorch', # this should be just \"source\" for your code\n",
    "                    role=role,\n",
    "                    framework_version='1.0',\n",
    "                    train_instance_count=1,\n",
    "                    train_instance_type='ml.c4.xlarge',\n",
    "                    output_path=output_path,\n",
    "                    sagemaker_session=sagemaker_session,\n",
    "                    hyperparameters={\n",
    "                        'input_dim': 20,  # num of features\n",
    "                        'hidden_dim': 20,\n",
    "                        'output_dim': 1,\n",
    "                        'epochs': 250 # could change to higher\n",
    "                    })"
   ]
  },
  {
   "cell_type": "code",
   "execution_count": null,
   "metadata": {},
   "outputs": [],
   "source": [
    "%%time \n",
    "# Train your estimator on S3 training data\n",
    "\n",
    "estimator.fit({'train': s3_input_train})"
   ]
  },
  {
   "cell_type": "code",
   "execution_count": null,
   "metadata": {},
   "outputs": [],
   "source": [
    "%%time\n",
    "\n",
    "from sagemaker.pytorch import PyTorchModel\n",
    "\n",
    "model = PyTorchModel(model_data=estimator.model_data,\n",
    "                     role = role,\n",
    "                     framework_version='1.0',\n",
    "                     entry_point='predict.py',\n",
    "                     source_dir='source_pytorch')"
   ]
  },
  {
   "cell_type": "code",
   "execution_count": null,
   "metadata": {},
   "outputs": [],
   "source": [
    "predictor = model.deploy(initial_instance_count=1, instance_type='ml.t2.medium')"
   ]
  },
  {
   "cell_type": "code",
   "execution_count": null,
   "metadata": {},
   "outputs": [],
   "source": [
    "test_y_preds = (predictor.predict(X_val)))\n"
   ]
  },
  {
   "cell_type": "code",
   "execution_count": null,
   "metadata": {},
   "outputs": [],
   "source": []
  },
  {
   "cell_type": "code",
   "execution_count": null,
   "metadata": {},
   "outputs": [],
   "source": []
  },
  {
   "cell_type": "code",
   "execution_count": null,
   "metadata": {},
   "outputs": [],
   "source": []
  },
  {
   "cell_type": "code",
   "execution_count": null,
   "metadata": {},
   "outputs": [],
   "source": []
  },
  {
   "cell_type": "code",
   "execution_count": null,
   "metadata": {},
   "outputs": [],
   "source": []
  },
  {
   "cell_type": "code",
   "execution_count": null,
   "metadata": {},
   "outputs": [],
   "source": []
  },
  {
   "cell_type": "code",
   "execution_count": null,
   "metadata": {},
   "outputs": [],
   "source": []
  },
  {
   "cell_type": "code",
   "execution_count": null,
   "metadata": {},
   "outputs": [],
   "source": []
  },
  {
   "cell_type": "markdown",
   "metadata": {},
   "source": [
    "# DEEP AR NOT"
   ]
  },
  {
   "cell_type": "code",
   "execution_count": null,
   "metadata": {},
   "outputs": [],
   "source": [
    "#original_df\n",
    "#current\n",
    "def create_data(df, look_back, predict_next, stocks):\n",
    "    df.index = pd.to_datetime(df.index)\n",
    "    return_df = pd.DataFrame()\n",
    "    df_len = len(df)\n",
    "    log_pow_df = np.log(df).diff().pow(2)\n",
    "    direction_df = df.pct_change()\n",
    "    h = 0\n",
    "    stocks_len = len(stocks)\n",
    "    print(\"Part 1 Start\")\n",
    "    for stock in stocks:       \n",
    "        direction_df[stock].loc[direction_df[stock] > 0] = 1\n",
    "        direction_df[stock].loc[direction_df[stock] < 0] = -1\n",
    "        h = h+1\n",
    "        print(\"Part 1, Stock \" + str(h) + \" out of \"+ str(stocks_len)+\" processed\" )\n",
    "    h = 0\n",
    "    print(\"Part 2 Start\")\n",
    "    for stock in stocks:\n",
    "        h = h+1\n",
    "        for i in range(0,df_len-(predict_next+look_back)):\n",
    "            x_data = log_pow_df[stock].rolling(1).sum()[i:i+look_back]**(1/2)*(252)**(1/2)*100 *  direction_df[stock][i:i+look_back]\n",
    "            y_data = log_pow_df[stock].rolling(predict_next).sum()[i+look_back +predict_next ]**(1/2)*(252/predict_next)**(1/2)*100        \n",
    "            return_df = pd.concat([return_df,pd.DataFrame(np.concatenate((y_data, x_data), axis=None))],axis=1)          \n",
    "        print(\"Part 2, Stock \" + str(h) + \" out of \"+ str(stocks_len)+\" processed\" )\n",
    "    return_df.dropna(axis=1,inplace=True)\n",
    "    print(\"Finihed!\")\n",
    "    return return_df.transpose()"
   ]
  },
  {
   "cell_type": "code",
   "execution_count": null,
   "metadata": {},
   "outputs": [],
   "source": [
    "# part data\n",
    "stock = \"caixabank\"\n",
    "#test = [\"santander\",\"caixabank\",\"colonial\"]\n",
    "#test = [\"santander\"]\n"
   ]
  },
  {
   "cell_type": "markdown",
   "metadata": {},
   "source": [
    "# DEEP AR NOT\n",
    "look_back = 20\n",
    "predict_next = 5\n",
    "i = 40\n",
    "df = original_df\n",
    "df.index = pd.to_datetime(df.index)\n",
    "return_df = pd.DataFrame()\n",
    "log_pow_df = np.log(df).diff().pow(2)\n",
    "direction_df = df.pct_change()\n",
    "direction_df[stock].loc[direction_df[stock] > 0] = 1\n",
    "direction_df[stock].loc[direction_df[stock] < 0] = -1\n",
    "(log_pow_df[stock].rolling(1).sum()[i:i+look_back]**(1/2)*(252)**(1/2)*100 *  direction_df[stock][i:i+look_back])"
   ]
  },
  {
   "cell_type": "code",
   "execution_count": null,
   "metadata": {},
   "outputs": [],
   "source": []
  },
  {
   "cell_type": "code",
   "execution_count": null,
   "metadata": {},
   "outputs": [],
   "source": []
  },
  {
   "cell_type": "markdown",
   "metadata": {},
   "source": [
    "$$MAD= \\sum_{i=1}^{n}\\frac{|{y}_i-y_i|}{n}$$"
   ]
  },
  {
   "cell_type": "markdown",
   "metadata": {},
   "source": [
    "$$RMSE =\\sqrt{ \\sum_{i=1}^{n}\\frac{(\\hat{y}_i-y_i)^2}{n}}$$"
   ]
  },
  {
   "cell_type": "code",
   "execution_count": null,
   "metadata": {},
   "outputs": [],
   "source": []
  }
 ],
 "metadata": {
  "kernelspec": {
   "display_name": "conda_amazonei_mxnet_p36",
   "language": "python",
   "name": "conda_amazonei_mxnet_p36"
  },
  "language_info": {
   "codemirror_mode": {
    "name": "ipython",
    "version": 3
   },
   "file_extension": ".py",
   "mimetype": "text/x-python",
   "name": "python",
   "nbconvert_exporter": "python",
   "pygments_lexer": "ipython3",
   "version": "3.6.5"
  }
 },
 "nbformat": 4,
 "nbformat_minor": 4
}
